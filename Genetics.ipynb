{
  "nbformat": 4,
  "nbformat_minor": 0,
  "metadata": {
    "kernelspec": {
      "display_name": "aimapython3",
      "language": "python",
      "name": "aimapython3"
    },
    "language_info": {
      "codemirror_mode": {
        "name": "ipython",
        "version": 3
      },
      "file_extension": ".py",
      "mimetype": "text/x-python",
      "name": "python",
      "nbconvert_exporter": "python",
      "pygments_lexer": "ipython3",
      "version": "3.5.2"
    },
    "colab": {
      "provenance": [],
      "include_colab_link": true
    }
  },
  "cells": [
    {
      "cell_type": "markdown",
      "metadata": {
        "id": "view-in-github",
        "colab_type": "text"
      },
      "source": [
        "<a href=\"https://colab.research.google.com/github/lrbenitez/ColabInteligentes/blob/main/Genetics.ipynb\" target=\"_parent\"><img src=\"https://colab.research.google.com/assets/colab-badge.svg\" alt=\"Open In Colab\"/></a>"
      ]
    },
    {
      "cell_type": "code",
      "metadata": {
        "colab": {
          "base_uri": "https://localhost:8080/",
          "height": 1000
        },
        "id": "lDEioRLc30Mv",
        "outputId": "a4760361-f6f6-4bc8-8311-3cc86f25c802"
      },
      "source": [
        "!git clone -l -s https://github.com/aimacode/aima-python\n",
        "%cd aima-python\n",
        "%pip install -r requirements.txt"
      ],
      "execution_count": null,
      "outputs": [
        {
          "output_type": "stream",
          "name": "stdout",
          "text": [
            "Cloning into 'aima-python'...\n",
            "warning: --local is ignored\n",
            "remote: Enumerating objects: 5092, done.\u001b[K\n",
            "remote: Total 5092 (delta 0), reused 0 (delta 0), pack-reused 5092\u001b[K\n",
            "Receiving objects: 100% (5092/5092), 17.43 MiB | 28.98 MiB/s, done.\n",
            "Resolving deltas: 100% (3416/3416), done.\n",
            "/content/aima-python\n",
            "Requirement already satisfied: cvxopt in /usr/local/lib/python3.7/dist-packages (from -r requirements.txt (line 1)) (1.2.7)\n",
            "Collecting image\n",
            "  Downloading image-1.5.33.tar.gz (15 kB)\n",
            "Requirement already satisfied: ipython in /usr/local/lib/python3.7/dist-packages (from -r requirements.txt (line 3)) (5.5.0)\n",
            "Collecting ipythonblocks\n",
            "  Downloading ipythonblocks-1.9.0-py2.py3-none-any.whl (13 kB)\n",
            "Requirement already satisfied: ipywidgets in /usr/local/lib/python3.7/dist-packages (from -r requirements.txt (line 5)) (7.6.5)\n",
            "Requirement already satisfied: jupyter in /usr/local/lib/python3.7/dist-packages (from -r requirements.txt (line 6)) (1.0.0)\n",
            "Requirement already satisfied: keras in /usr/local/lib/python3.7/dist-packages (from -r requirements.txt (line 7)) (2.6.0)\n",
            "Requirement already satisfied: matplotlib in /usr/local/lib/python3.7/dist-packages (from -r requirements.txt (line 8)) (3.2.2)\n",
            "Requirement already satisfied: networkx in /usr/local/lib/python3.7/dist-packages (from -r requirements.txt (line 9)) (2.6.3)\n",
            "Requirement already satisfied: numpy in /usr/local/lib/python3.7/dist-packages (from -r requirements.txt (line 10)) (1.19.5)\n",
            "Requirement already satisfied: opencv-python in /usr/local/lib/python3.7/dist-packages (from -r requirements.txt (line 11)) (4.1.2.30)\n",
            "Requirement already satisfied: pandas in /usr/local/lib/python3.7/dist-packages (from -r requirements.txt (line 12)) (1.1.5)\n",
            "Requirement already satisfied: pillow in /usr/local/lib/python3.7/dist-packages (from -r requirements.txt (line 13)) (7.1.2)\n",
            "Collecting pytest-cov\n",
            "  Downloading pytest_cov-3.0.0-py3-none-any.whl (20 kB)\n",
            "Collecting qpsolvers\n",
            "  Downloading qpsolvers-1.7.1-py3-none-any.whl (35 kB)\n",
            "Requirement already satisfied: scipy in /usr/local/lib/python3.7/dist-packages (from -r requirements.txt (line 16)) (1.4.1)\n",
            "Requirement already satisfied: sortedcontainers in /usr/local/lib/python3.7/dist-packages (from -r requirements.txt (line 17)) (2.4.0)\n",
            "Requirement already satisfied: tensorflow in /usr/local/lib/python3.7/dist-packages (from -r requirements.txt (line 18)) (2.6.0)\n",
            "Collecting django\n",
            "  Downloading Django-3.2.9-py3-none-any.whl (7.9 MB)\n",
            "\u001b[K     |████████████████████████████████| 7.9 MB 47.1 MB/s \n",
            "\u001b[?25hRequirement already satisfied: six in /usr/local/lib/python3.7/dist-packages (from image->-r requirements.txt (line 2)) (1.15.0)\n",
            "Requirement already satisfied: setuptools>=18.5 in /usr/local/lib/python3.7/dist-packages (from ipython->-r requirements.txt (line 3)) (57.4.0)\n",
            "Requirement already satisfied: simplegeneric>0.8 in /usr/local/lib/python3.7/dist-packages (from ipython->-r requirements.txt (line 3)) (0.8.1)\n",
            "Requirement already satisfied: decorator in /usr/local/lib/python3.7/dist-packages (from ipython->-r requirements.txt (line 3)) (4.4.2)\n",
            "Requirement already satisfied: pygments in /usr/local/lib/python3.7/dist-packages (from ipython->-r requirements.txt (line 3)) (2.6.1)\n",
            "Requirement already satisfied: prompt-toolkit<2.0.0,>=1.0.4 in /usr/local/lib/python3.7/dist-packages (from ipython->-r requirements.txt (line 3)) (1.0.18)\n",
            "Requirement already satisfied: pexpect in /usr/local/lib/python3.7/dist-packages (from ipython->-r requirements.txt (line 3)) (4.8.0)\n",
            "Requirement already satisfied: traitlets>=4.2 in /usr/local/lib/python3.7/dist-packages (from ipython->-r requirements.txt (line 3)) (5.1.0)\n",
            "Requirement already satisfied: pickleshare in /usr/local/lib/python3.7/dist-packages (from ipython->-r requirements.txt (line 3)) (0.7.5)\n",
            "Requirement already satisfied: wcwidth in /usr/local/lib/python3.7/dist-packages (from prompt-toolkit<2.0.0,>=1.0.4->ipython->-r requirements.txt (line 3)) (0.2.5)\n",
            "Requirement already satisfied: requests>=1.0 in /usr/local/lib/python3.7/dist-packages (from ipythonblocks->-r requirements.txt (line 4)) (2.23.0)\n",
            "Requirement already satisfied: notebook>=4.0 in /usr/local/lib/python3.7/dist-packages (from ipythonblocks->-r requirements.txt (line 4)) (5.3.1)\n",
            "Requirement already satisfied: jupyter-client>=5.2.0 in /usr/local/lib/python3.7/dist-packages (from notebook>=4.0->ipythonblocks->-r requirements.txt (line 4)) (5.3.5)\n",
            "Requirement already satisfied: jinja2 in /usr/local/lib/python3.7/dist-packages (from notebook>=4.0->ipythonblocks->-r requirements.txt (line 4)) (2.11.3)\n",
            "Requirement already satisfied: nbformat in /usr/local/lib/python3.7/dist-packages (from notebook>=4.0->ipythonblocks->-r requirements.txt (line 4)) (5.1.3)\n",
            "Requirement already satisfied: Send2Trash in /usr/local/lib/python3.7/dist-packages (from notebook>=4.0->ipythonblocks->-r requirements.txt (line 4)) (1.8.0)\n",
            "Requirement already satisfied: ipykernel in /usr/local/lib/python3.7/dist-packages (from notebook>=4.0->ipythonblocks->-r requirements.txt (line 4)) (4.10.1)\n",
            "Requirement already satisfied: ipython-genutils in /usr/local/lib/python3.7/dist-packages (from notebook>=4.0->ipythonblocks->-r requirements.txt (line 4)) (0.2.0)\n",
            "Requirement already satisfied: jupyter-core>=4.4.0 in /usr/local/lib/python3.7/dist-packages (from notebook>=4.0->ipythonblocks->-r requirements.txt (line 4)) (4.8.1)\n",
            "Requirement already satisfied: tornado>=4 in /usr/local/lib/python3.7/dist-packages (from notebook>=4.0->ipythonblocks->-r requirements.txt (line 4)) (5.1.1)\n",
            "Requirement already satisfied: terminado>=0.8.1 in /usr/local/lib/python3.7/dist-packages (from notebook>=4.0->ipythonblocks->-r requirements.txt (line 4)) (0.12.1)\n",
            "Requirement already satisfied: nbconvert in /usr/local/lib/python3.7/dist-packages (from notebook>=4.0->ipythonblocks->-r requirements.txt (line 4)) (5.6.1)\n",
            "Requirement already satisfied: pyzmq>=13 in /usr/local/lib/python3.7/dist-packages (from jupyter-client>=5.2.0->notebook>=4.0->ipythonblocks->-r requirements.txt (line 4)) (22.3.0)\n",
            "Requirement already satisfied: python-dateutil>=2.1 in /usr/local/lib/python3.7/dist-packages (from jupyter-client>=5.2.0->notebook>=4.0->ipythonblocks->-r requirements.txt (line 4)) (2.8.2)\n",
            "Requirement already satisfied: idna<3,>=2.5 in /usr/local/lib/python3.7/dist-packages (from requests>=1.0->ipythonblocks->-r requirements.txt (line 4)) (2.10)\n",
            "Requirement already satisfied: certifi>=2017.4.17 in /usr/local/lib/python3.7/dist-packages (from requests>=1.0->ipythonblocks->-r requirements.txt (line 4)) (2021.5.30)\n",
            "Requirement already satisfied: urllib3!=1.25.0,!=1.25.1,<1.26,>=1.21.1 in /usr/local/lib/python3.7/dist-packages (from requests>=1.0->ipythonblocks->-r requirements.txt (line 4)) (1.24.3)\n",
            "Requirement already satisfied: chardet<4,>=3.0.2 in /usr/local/lib/python3.7/dist-packages (from requests>=1.0->ipythonblocks->-r requirements.txt (line 4)) (3.0.4)\n",
            "Requirement already satisfied: ptyprocess in /usr/local/lib/python3.7/dist-packages (from terminado>=0.8.1->notebook>=4.0->ipythonblocks->-r requirements.txt (line 4)) (0.7.0)\n",
            "Requirement already satisfied: widgetsnbextension~=3.5.0 in /usr/local/lib/python3.7/dist-packages (from ipywidgets->-r requirements.txt (line 5)) (3.5.1)\n",
            "Requirement already satisfied: jupyterlab-widgets>=1.0.0 in /usr/local/lib/python3.7/dist-packages (from ipywidgets->-r requirements.txt (line 5)) (1.0.2)\n",
            "Requirement already satisfied: jsonschema!=2.5.0,>=2.4 in /usr/local/lib/python3.7/dist-packages (from nbformat->notebook>=4.0->ipythonblocks->-r requirements.txt (line 4)) (2.6.0)\n",
            "Requirement already satisfied: jupyter-console in /usr/local/lib/python3.7/dist-packages (from jupyter->-r requirements.txt (line 6)) (5.2.0)\n",
            "Requirement already satisfied: qtconsole in /usr/local/lib/python3.7/dist-packages (from jupyter->-r requirements.txt (line 6)) (5.1.1)\n",
            "Requirement already satisfied: cycler>=0.10 in /usr/local/lib/python3.7/dist-packages (from matplotlib->-r requirements.txt (line 8)) (0.10.0)\n",
            "Requirement already satisfied: pyparsing!=2.0.4,!=2.1.2,!=2.1.6,>=2.0.1 in /usr/local/lib/python3.7/dist-packages (from matplotlib->-r requirements.txt (line 8)) (2.4.7)\n",
            "Requirement already satisfied: kiwisolver>=1.0.1 in /usr/local/lib/python3.7/dist-packages (from matplotlib->-r requirements.txt (line 8)) (1.3.2)\n",
            "Requirement already satisfied: pytz>=2017.2 in /usr/local/lib/python3.7/dist-packages (from pandas->-r requirements.txt (line 12)) (2018.9)\n",
            "Collecting pytest>=4.6\n",
            "  Downloading pytest-6.2.5-py3-none-any.whl (280 kB)\n",
            "\u001b[K     |████████████████████████████████| 280 kB 52.8 MB/s \n",
            "\u001b[?25hCollecting coverage[toml]>=5.2.1\n",
            "  Downloading coverage-6.1.1-cp37-cp37m-manylinux_2_5_x86_64.manylinux1_x86_64.manylinux_2_12_x86_64.manylinux2010_x86_64.whl (213 kB)\n",
            "\u001b[K     |████████████████████████████████| 213 kB 67.3 MB/s \n",
            "\u001b[?25hRequirement already satisfied: tomli in /usr/local/lib/python3.7/dist-packages (from coverage[toml]>=5.2.1->pytest-cov->-r requirements.txt (line 14)) (1.2.1)\n",
            "Requirement already satisfied: importlib-metadata>=0.12 in /usr/local/lib/python3.7/dist-packages (from pytest>=4.6->pytest-cov->-r requirements.txt (line 14)) (4.8.1)\n",
            "Requirement already satisfied: toml in /usr/local/lib/python3.7/dist-packages (from pytest>=4.6->pytest-cov->-r requirements.txt (line 14)) (0.10.2)\n",
            "Requirement already satisfied: py>=1.8.2 in /usr/local/lib/python3.7/dist-packages (from pytest>=4.6->pytest-cov->-r requirements.txt (line 14)) (1.10.0)\n",
            "Requirement already satisfied: packaging in /usr/local/lib/python3.7/dist-packages (from pytest>=4.6->pytest-cov->-r requirements.txt (line 14)) (21.0)\n",
            "Requirement already satisfied: attrs>=19.2.0 in /usr/local/lib/python3.7/dist-packages (from pytest>=4.6->pytest-cov->-r requirements.txt (line 14)) (21.2.0)\n",
            "Collecting pluggy<2.0,>=0.12\n",
            "  Downloading pluggy-1.0.0-py2.py3-none-any.whl (13 kB)\n",
            "Requirement already satisfied: iniconfig in /usr/local/lib/python3.7/dist-packages (from pytest>=4.6->pytest-cov->-r requirements.txt (line 14)) (1.1.1)\n",
            "Requirement already satisfied: typing-extensions>=3.6.4 in /usr/local/lib/python3.7/dist-packages (from importlib-metadata>=0.12->pytest>=4.6->pytest-cov->-r requirements.txt (line 14)) (3.7.4.3)\n",
            "Requirement already satisfied: zipp>=0.5 in /usr/local/lib/python3.7/dist-packages (from importlib-metadata>=0.12->pytest>=4.6->pytest-cov->-r requirements.txt (line 14)) (3.6.0)\n",
            "Requirement already satisfied: Cython>=0.29.22 in /usr/local/lib/python3.7/dist-packages (from qpsolvers->-r requirements.txt (line 15)) (0.29.24)\n",
            "Requirement already satisfied: qdldl>=0.1.5 in /usr/local/lib/python3.7/dist-packages (from qpsolvers->-r requirements.txt (line 15)) (0.1.5.post0)\n",
            "Collecting numpy\n",
            "  Downloading numpy-1.21.3-cp37-cp37m-manylinux_2_12_x86_64.manylinux2010_x86_64.whl (15.7 MB)\n",
            "\u001b[K     |████████████████████████████████| 15.7 MB 58 kB/s \n",
            "\u001b[?25hCollecting quadprog>=0.1.8\n",
            "  Downloading quadprog-0.1.10.tar.gz (121 kB)\n",
            "\u001b[K     |████████████████████████████████| 121 kB 70.0 MB/s \n",
            "\u001b[?25h  Installing build dependencies ... \u001b[?25l\u001b[?25hdone\n",
            "  Getting requirements to build wheel ... \u001b[?25l\u001b[?25hdone\n",
            "    Preparing wheel metadata ... \u001b[?25l\u001b[?25hdone\n",
            "Requirement already satisfied: flatbuffers~=1.12.0 in /usr/local/lib/python3.7/dist-packages (from tensorflow->-r requirements.txt (line 18)) (1.12)\n",
            "Requirement already satisfied: tensorboard~=2.6 in /usr/local/lib/python3.7/dist-packages (from tensorflow->-r requirements.txt (line 18)) (2.6.0)\n",
            "Collecting tensorflow\n",
            "  Downloading tensorflow-2.6.1-cp37-cp37m-manylinux2010_x86_64.whl (458.3 MB)\n",
            "\u001b[K     |████████████████████████████████| 458.3 MB 13 kB/s \n",
            "\u001b[?25h  Downloading tensorflow-2.5.2-cp37-cp37m-manylinux2010_x86_64.whl (454.4 MB)\n",
            "\u001b[K     |████████████████████████████████| 454.4 MB 22 kB/s \n",
            "\u001b[?25h  Downloading tensorflow-2.5.1-cp37-cp37m-manylinux2010_x86_64.whl (454.4 MB)\n",
            "\u001b[K     |████████████████████████████████| 454.4 MB 10 kB/s \n",
            "\u001b[?25h  Downloading tensorflow-2.5.0-cp37-cp37m-manylinux2010_x86_64.whl (454.3 MB)\n",
            "\u001b[K     |████████████████████████████████| 454.3 MB 17 kB/s \n",
            "\u001b[?25h  Downloading tensorflow-2.4.4-cp37-cp37m-manylinux2010_x86_64.whl (394.5 MB)\n",
            "\u001b[K     |████████████████████████████████| 394.5 MB 19 kB/s \n",
            "\u001b[?25hCollecting h5py~=2.10.0\n",
            "  Downloading h5py-2.10.0-cp37-cp37m-manylinux1_x86_64.whl (2.9 MB)\n",
            "\u001b[K     |████████████████████████████████| 2.9 MB 29.6 MB/s \n",
            "\u001b[?25hRequirement already satisfied: wrapt~=1.12.1 in /usr/local/lib/python3.7/dist-packages (from tensorflow->-r requirements.txt (line 18)) (1.12.1)\n",
            "Requirement already satisfied: google-pasta~=0.2 in /usr/local/lib/python3.7/dist-packages (from tensorflow->-r requirements.txt (line 18)) (0.2.0)\n",
            "Requirement already satisfied: astunparse~=1.6.3 in /usr/local/lib/python3.7/dist-packages (from tensorflow->-r requirements.txt (line 18)) (1.6.3)\n",
            "Requirement already satisfied: opt-einsum~=3.3.0 in /usr/local/lib/python3.7/dist-packages (from tensorflow->-r requirements.txt (line 18)) (3.3.0)\n",
            "Requirement already satisfied: keras-preprocessing~=1.1.2 in /usr/local/lib/python3.7/dist-packages (from tensorflow->-r requirements.txt (line 18)) (1.1.2)\n",
            "Requirement already satisfied: protobuf>=3.9.2 in /usr/local/lib/python3.7/dist-packages (from tensorflow->-r requirements.txt (line 18)) (3.17.3)\n",
            "Collecting tensorflow-estimator<2.5.0,>=2.4.0\n",
            "  Downloading tensorflow_estimator-2.4.0-py2.py3-none-any.whl (462 kB)\n",
            "\u001b[K     |████████████████████████████████| 462 kB 53.1 MB/s \n",
            "\u001b[?25hCollecting tensorflow\n",
            "  Downloading tensorflow-2.4.3-cp37-cp37m-manylinux2010_x86_64.whl (394.5 MB)\n",
            "\u001b[K     |████████████████████████████████| 394.5 MB 371 bytes/s \n",
            "\u001b[?25h  Downloading tensorflow-2.4.2-cp37-cp37m-manylinux2010_x86_64.whl (394.5 MB)\n",
            "\u001b[K     |████████████████████████████████| 394.5 MB 18 kB/s \n",
            "\u001b[?25h  Downloading tensorflow-2.4.1-cp37-cp37m-manylinux2010_x86_64.whl (394.3 MB)\n",
            "\u001b[K     |████████████████████████████████| 394.3 MB 9.7 kB/s \n",
            "\u001b[?25h  Downloading tensorflow-2.4.0-cp37-cp37m-manylinux2010_x86_64.whl (394.7 MB)\n",
            "\u001b[K     |████████████████████████████████| 394.7 MB 13 kB/s \n",
            "\u001b[?25hCollecting grpcio~=1.32.0\n",
            "  Downloading grpcio-1.32.0-cp37-cp37m-manylinux2014_x86_64.whl (3.8 MB)\n",
            "\u001b[K     |████████████████████████████████| 3.8 MB 30.3 MB/s \n",
            "\u001b[?25hCollecting tensorflow\n",
            "  Downloading tensorflow-2.3.4-cp37-cp37m-manylinux2010_x86_64.whl (320.6 MB)\n",
            "\u001b[K     |████████████████████████████████| 320.6 MB 46 kB/s \n",
            "\u001b[?25hRequirement already satisfied: grpcio>=1.8.6 in /usr/local/lib/python3.7/dist-packages (from tensorflow->-r requirements.txt (line 18)) (1.41.0)\n",
            "Requirement already satisfied: termcolor>=1.1.0 in /usr/local/lib/python3.7/dist-packages (from tensorflow->-r requirements.txt (line 18)) (1.1.0)\n",
            "  Downloading tensorflow-2.3.3-cp37-cp37m-manylinux2010_x86_64.whl (320.5 MB)\n",
            "\u001b[K     |████████████████████████████████| 320.5 MB 13 kB/s \n",
            "\u001b[?25h  Downloading tensorflow-2.3.2-cp37-cp37m-manylinux2010_x86_64.whl (320.4 MB)\n",
            "\u001b[K     |████████████████████████████████| 320.4 MB 7.1 kB/s \n",
            "\u001b[?25h  Downloading tensorflow-2.3.1-cp37-cp37m-manylinux2010_x86_64.whl (320.4 MB)\n",
            "\u001b[K     |████████████████████████████████| 320.4 MB 18 kB/s \n",
            "\u001b[?25h  Downloading tensorflow-2.3.0-cp37-cp37m-manylinux2010_x86_64.whl (320.4 MB)\n",
            "\u001b[K     |████████████████████████████████| 320.4 MB 36 kB/s \n",
            "\u001b[?25h  Downloading tensorflow-2.2.3-cp37-cp37m-manylinux2010_x86_64.whl (516.4 MB)\n",
            "\u001b[K     |████████████████████████████████| 516.4 MB 18 kB/s \n",
            "\u001b[?25hRequirement already satisfied: wheel>=0.26 in /usr/local/lib/python3.7/dist-packages (from tensorflow->-r requirements.txt (line 18)) (0.37.0)\n",
            "  Downloading tensorflow-2.2.2-cp37-cp37m-manylinux2010_x86_64.whl (516.2 MB)\n",
            "\u001b[K     |████████████████████████████████| 516.2 MB 22 kB/s \n",
            "\u001b[?25h  Downloading tensorflow-2.2.1-cp37-cp37m-manylinux2010_x86_64.whl (516.2 MB)\n",
            "\u001b[K     |████████████████████████████████| 516.2 MB 35 kB/s \n",
            "\u001b[?25h  Downloading tensorflow-2.2.0-cp37-cp37m-manylinux2010_x86_64.whl (516.2 MB)\n",
            "\u001b[K     |████████████████████████████████| 516.2 MB 4.5 kB/s \n",
            "\u001b[?25hCollecting tensorflow-estimator<2.3.0,>=2.2.0\n",
            "  Downloading tensorflow_estimator-2.2.0-py2.py3-none-any.whl (454 kB)\n",
            "\u001b[K     |████████████████████████████████| 454 kB 55.4 MB/s \n",
            "\u001b[?25hCollecting tensorboard<2.3.0,>=2.2.0\n",
            "  Downloading tensorboard-2.2.2-py3-none-any.whl (3.0 MB)\n",
            "\u001b[K     |████████████████████████████████| 3.0 MB 31.6 MB/s \n",
            "\u001b[?25hRequirement already satisfied: absl-py>=0.7.0 in /usr/local/lib/python3.7/dist-packages (from tensorflow->-r requirements.txt (line 18)) (0.12.0)\n",
            "Collecting gast==0.3.3\n",
            "  Downloading gast-0.3.3-py2.py3-none-any.whl (9.7 kB)\n",
            "Requirement already satisfied: markdown>=2.6.8 in /usr/local/lib/python3.7/dist-packages (from tensorboard<2.3.0,>=2.2.0->tensorflow->-r requirements.txt (line 18)) (3.3.4)\n",
            "Requirement already satisfied: google-auth<2,>=1.6.3 in /usr/local/lib/python3.7/dist-packages (from tensorboard<2.3.0,>=2.2.0->tensorflow->-r requirements.txt (line 18)) (1.35.0)\n",
            "Requirement already satisfied: google-auth-oauthlib<0.5,>=0.4.1 in /usr/local/lib/python3.7/dist-packages (from tensorboard<2.3.0,>=2.2.0->tensorflow->-r requirements.txt (line 18)) (0.4.6)\n",
            "Requirement already satisfied: tensorboard-plugin-wit>=1.6.0 in /usr/local/lib/python3.7/dist-packages (from tensorboard<2.3.0,>=2.2.0->tensorflow->-r requirements.txt (line 18)) (1.8.0)\n",
            "Requirement already satisfied: werkzeug>=0.11.15 in /usr/local/lib/python3.7/dist-packages (from tensorboard<2.3.0,>=2.2.0->tensorflow->-r requirements.txt (line 18)) (1.0.1)\n",
            "Requirement already satisfied: cachetools<5.0,>=2.0.0 in /usr/local/lib/python3.7/dist-packages (from google-auth<2,>=1.6.3->tensorboard<2.3.0,>=2.2.0->tensorflow->-r requirements.txt (line 18)) (4.2.4)\n",
            "Requirement already satisfied: rsa<5,>=3.1.4 in /usr/local/lib/python3.7/dist-packages (from google-auth<2,>=1.6.3->tensorboard<2.3.0,>=2.2.0->tensorflow->-r requirements.txt (line 18)) (4.7.2)\n",
            "Requirement already satisfied: pyasn1-modules>=0.2.1 in /usr/local/lib/python3.7/dist-packages (from google-auth<2,>=1.6.3->tensorboard<2.3.0,>=2.2.0->tensorflow->-r requirements.txt (line 18)) (0.2.8)\n",
            "Requirement already satisfied: requests-oauthlib>=0.7.0 in /usr/local/lib/python3.7/dist-packages (from google-auth-oauthlib<0.5,>=0.4.1->tensorboard<2.3.0,>=2.2.0->tensorflow->-r requirements.txt (line 18)) (1.3.0)\n",
            "Requirement already satisfied: pyasn1<0.5.0,>=0.4.6 in /usr/local/lib/python3.7/dist-packages (from pyasn1-modules>=0.2.1->google-auth<2,>=1.6.3->tensorboard<2.3.0,>=2.2.0->tensorflow->-r requirements.txt (line 18)) (0.4.8)\n",
            "Requirement already satisfied: oauthlib>=3.0.0 in /usr/local/lib/python3.7/dist-packages (from requests-oauthlib>=0.7.0->google-auth-oauthlib<0.5,>=0.4.1->tensorboard<2.3.0,>=2.2.0->tensorflow->-r requirements.txt (line 18)) (3.1.1)\n",
            "Collecting asgiref<4,>=3.3.2\n",
            "  Downloading asgiref-3.4.1-py3-none-any.whl (25 kB)\n",
            "Requirement already satisfied: sqlparse>=0.2.2 in /usr/local/lib/python3.7/dist-packages (from django->image->-r requirements.txt (line 2)) (0.4.2)\n",
            "Requirement already satisfied: MarkupSafe>=0.23 in /usr/local/lib/python3.7/dist-packages (from jinja2->notebook>=4.0->ipythonblocks->-r requirements.txt (line 4)) (2.0.1)\n",
            "Requirement already satisfied: mistune<2,>=0.8.1 in /usr/local/lib/python3.7/dist-packages (from nbconvert->notebook>=4.0->ipythonblocks->-r requirements.txt (line 4)) (0.8.4)\n",
            "Requirement already satisfied: pandocfilters>=1.4.1 in /usr/local/lib/python3.7/dist-packages (from nbconvert->notebook>=4.0->ipythonblocks->-r requirements.txt (line 4)) (1.5.0)\n",
            "Requirement already satisfied: defusedxml in /usr/local/lib/python3.7/dist-packages (from nbconvert->notebook>=4.0->ipythonblocks->-r requirements.txt (line 4)) (0.7.1)\n",
            "Requirement already satisfied: entrypoints>=0.2.2 in /usr/local/lib/python3.7/dist-packages (from nbconvert->notebook>=4.0->ipythonblocks->-r requirements.txt (line 4)) (0.3)\n",
            "Requirement already satisfied: bleach in /usr/local/lib/python3.7/dist-packages (from nbconvert->notebook>=4.0->ipythonblocks->-r requirements.txt (line 4)) (4.1.0)\n",
            "Requirement already satisfied: testpath in /usr/local/lib/python3.7/dist-packages (from nbconvert->notebook>=4.0->ipythonblocks->-r requirements.txt (line 4)) (0.5.0)\n",
            "Requirement already satisfied: webencodings in /usr/local/lib/python3.7/dist-packages (from bleach->nbconvert->notebook>=4.0->ipythonblocks->-r requirements.txt (line 4)) (0.5.1)\n",
            "Requirement already satisfied: qtpy in /usr/local/lib/python3.7/dist-packages (from qtconsole->jupyter->-r requirements.txt (line 6)) (1.11.2)\n",
            "Building wheels for collected packages: image, quadprog\n",
            "  Building wheel for image (setup.py) ... \u001b[?25l\u001b[?25hdone\n",
            "  Created wheel for image: filename=image-1.5.33-py2.py3-none-any.whl size=19494 sha256=cab9116f5795c40f02c218a5534e6f14d1ef4e1b99275022f28cf7f7f21277bb\n",
            "  Stored in directory: /root/.cache/pip/wheels/56/88/e6/897194cfe8c08a8b9afd881d3bf53d102e13fa39607d721383\n",
            "  Building wheel for quadprog (PEP 517) ... \u001b[?25l\u001b[?25hdone\n",
            "  Created wheel for quadprog: filename=quadprog-0.1.10-cp37-cp37m-linux_x86_64.whl size=290730 sha256=c5c75b18948b5f66f43bd408018d416f5c4b5c693c9a680b5fd261f4b1d8a779\n",
            "  Stored in directory: /root/.cache/pip/wheels/e9/af/76/c5335ed32afc1284e6100b86588d1f75f5c4906fa26df6efda\n",
            "Successfully built image quadprog\n",
            "Installing collected packages: numpy, pluggy, coverage, asgiref, tensorflow-estimator, tensorboard, quadprog, pytest, h5py, gast, django, tensorflow, qpsolvers, pytest-cov, ipythonblocks, image\n",
            "  Attempting uninstall: numpy\n",
            "    Found existing installation: numpy 1.19.5\n",
            "    Uninstalling numpy-1.19.5:\n",
            "      Successfully uninstalled numpy-1.19.5\n",
            "  Attempting uninstall: pluggy\n",
            "    Found existing installation: pluggy 0.7.1\n",
            "    Uninstalling pluggy-0.7.1:\n",
            "      Successfully uninstalled pluggy-0.7.1\n",
            "  Attempting uninstall: coverage\n",
            "    Found existing installation: coverage 3.7.1\n",
            "    Uninstalling coverage-3.7.1:\n",
            "      Successfully uninstalled coverage-3.7.1\n",
            "  Attempting uninstall: tensorflow-estimator\n",
            "    Found existing installation: tensorflow-estimator 2.6.0\n",
            "    Uninstalling tensorflow-estimator-2.6.0:\n",
            "      Successfully uninstalled tensorflow-estimator-2.6.0\n",
            "  Attempting uninstall: tensorboard\n",
            "    Found existing installation: tensorboard 2.6.0\n",
            "    Uninstalling tensorboard-2.6.0:\n",
            "      Successfully uninstalled tensorboard-2.6.0\n",
            "  Attempting uninstall: pytest\n",
            "    Found existing installation: pytest 3.6.4\n",
            "    Uninstalling pytest-3.6.4:\n",
            "      Successfully uninstalled pytest-3.6.4\n",
            "  Attempting uninstall: h5py\n",
            "    Found existing installation: h5py 3.1.0\n",
            "    Uninstalling h5py-3.1.0:\n",
            "      Successfully uninstalled h5py-3.1.0\n",
            "  Attempting uninstall: gast\n",
            "    Found existing installation: gast 0.4.0\n",
            "    Uninstalling gast-0.4.0:\n",
            "      Successfully uninstalled gast-0.4.0\n",
            "  Attempting uninstall: tensorflow\n",
            "    Found existing installation: tensorflow 2.6.0\n",
            "    Uninstalling tensorflow-2.6.0:\n",
            "      Successfully uninstalled tensorflow-2.6.0\n",
            "\u001b[31mERROR: pip's dependency resolver does not currently take into account all the packages that are installed. This behaviour is the source of the following dependency conflicts.\n",
            "datascience 0.10.6 requires coverage==3.7.1, but you have coverage 6.1.1 which is incompatible.\n",
            "datascience 0.10.6 requires folium==0.2.1, but you have folium 0.8.3 which is incompatible.\n",
            "coveralls 0.5 requires coverage<3.999,>=3.6, but you have coverage 6.1.1 which is incompatible.\n",
            "albumentations 0.1.12 requires imgaug<0.2.7,>=0.2.5, but you have imgaug 0.2.9 which is incompatible.\u001b[0m\n",
            "Successfully installed asgiref-3.4.1 coverage-6.1.1 django-3.2.9 gast-0.3.3 h5py-2.10.0 image-1.5.33 ipythonblocks-1.9.0 numpy-1.21.3 pluggy-1.0.0 pytest-6.2.5 pytest-cov-3.0.0 qpsolvers-1.7.1 quadprog-0.1.10 tensorboard-2.2.2 tensorflow-2.2.0 tensorflow-estimator-2.2.0\n"
          ]
        },
        {
          "output_type": "display_data",
          "data": {
            "application/vnd.colab-display-data+json": {
              "pip_warning": {
                "packages": [
                  "numpy"
                ]
              }
            }
          },
          "metadata": {}
        }
      ]
    },
    {
      "cell_type": "code",
      "metadata": {
        "colab": {
          "base_uri": "https://localhost:8080/"
        },
        "id": "ZNRJ1egn6wvc",
        "outputId": "c3750f3c-cb85-43c2-e726-a6277aa23ee5"
      },
      "source": [
        "!git submodule init\n",
        "!git submodule update"
      ],
      "execution_count": null,
      "outputs": [
        {
          "output_type": "stream",
          "name": "stdout",
          "text": [
            "Submodule 'aima-data' (https://github.com/aimacode/aima-data.git) registered for path 'aima-data'\n",
            "Cloning into '/content/aima-python/aima-data'...\n",
            "Submodule path 'aima-data': checked out 'f6cbea61ad0c21c6b7be826d17af5a8d3a7c2c86'\n"
          ]
        }
      ]
    },
    {
      "cell_type": "code",
      "metadata": {
        "scrolled": true,
        "id": "z8Ud3p_63lZo"
      },
      "source": [
        "from search import *\n",
        "from notebook import psource, heatmap, gaussian_kernel, show_map, final_path_colors, display_visual, plot_NQueens\n",
        "\n",
        "# Needed to hide warnings in the matplotlib sections\n",
        "import warnings\n",
        "warnings.filterwarnings(\"ignore\")"
      ],
      "execution_count": null,
      "outputs": []
    },
    {
      "cell_type": "code",
      "metadata": {
        "id": "H_mkpa-q3lZs"
      },
      "source": [
        "%matplotlib inline\n",
        "import networkx as nx\n",
        "import matplotlib.pyplot as plt\n",
        "from matplotlib import lines\n",
        "\n",
        "from ipywidgets import interact\n",
        "import ipywidgets as widgets\n",
        "from IPython.display import display\n",
        "import time"
      ],
      "execution_count": null,
      "outputs": []
    },
    {
      "cell_type": "markdown",
      "metadata": {
        "id": "B7Hik_jN3lZt"
      },
      "source": [
        "## GENETIC ALGORITHM\n",
        "\n",
        "Genetic algorithms (or GA) are inspired by natural evolution and are particularly useful in optimization and search problems with large state spaces.\n",
        "\n",
        "Given a problem, algorithms in the domain make use of a *population* of solutions (also called *states*), where each solution/state represents a feasible solution. At each iteration (often called *generation*), the population gets updated using methods inspired by biology and evolution, like *crossover*, *mutation* and *natural selection*."
      ]
    },
    {
      "cell_type": "markdown",
      "metadata": {
        "id": "vUFBD73u3lZu"
      },
      "source": [
        "### Overview\n",
        "\n",
        "A genetic algorithm works in the following way:\n",
        "\n",
        "1) Initialize random population.\n",
        "\n",
        "2) Calculate population fitness.\n",
        "\n",
        "3) Select individuals for mating.\n",
        "\n",
        "4) Mate selected individuals to produce new population.\n",
        "\n",
        "     * Random chance to mutate individuals.\n",
        "\n",
        "5) Repeat from step 2) until an individual is fit enough or the maximum number of iterations was reached."
      ]
    },
    {
      "cell_type": "markdown",
      "metadata": {
        "id": "KZ64GsmE3lZv"
      },
      "source": [
        "### Glossary\n",
        "\n",
        "Before we continue, we will lay the basic terminology of the algorithm.\n",
        "\n",
        "* Individual/State: A list of elements (called *genes*) that represent possible solutions.\n",
        "\n",
        "* Population: The list of all the individuals/states.\n",
        "\n",
        "* Gene pool: The alphabet of possible values for an individual's genes.\n",
        "\n",
        "* Generation/Iteration: The number of times the population will be updated.\n",
        "\n",
        "* Fitness: An individual's score, calculated by a function specific to the problem."
      ]
    },
    {
      "cell_type": "markdown",
      "metadata": {
        "id": "uJhTCi8M3lZv"
      },
      "source": [
        "### Crossover\n",
        "\n",
        "Two individuals/states can \"mate\" and produce one child. This offspring bears characteristics from both of its parents. There are many ways we can implement this crossover. Here we will take a look at the most common ones. Most other methods are variations of those below.\n",
        "\n",
        "* Point Crossover: The crossover occurs around one (or more) point. The parents get \"split\" at the chosen point or points and then get merged. In the example below we see two parents get split and merged at the 3rd digit, producing the following offspring after the crossover.\n",
        "\n",
        "![point crossover](images/point_crossover.png)\n",
        "\n",
        "* Uniform Crossover: This type of crossover chooses randomly the genes to get merged. Here the genes 1, 2 and 5 were chosen from the first parent, so the genes 3, 4 were added by the second parent.\n",
        "\n",
        "![uniform crossover](images/uniform_crossover.png)"
      ]
    },
    {
      "cell_type": "markdown",
      "metadata": {
        "id": "S7b_s66V3lZw"
      },
      "source": [
        "### Mutation\n",
        "\n",
        "When an offspring is produced, there is a chance it will mutate, having one (or more, depending on the implementation) of its genes altered.\n",
        "\n",
        "For example, let's say the new individual to undergo mutation is \"abcde\". Randomly we pick to change its third gene to 'z'. The individual now becomes \"abzde\" and is added to the population."
      ]
    },
    {
      "cell_type": "markdown",
      "metadata": {
        "id": "EueFD18M3lZx"
      },
      "source": [
        "### Selection\n",
        "\n",
        "At each iteration, the fittest individuals are picked randomly to mate and produce offsprings. We measure an individual's fitness with a *fitness function*. That function depends on the given problem and it is used to score an individual. Usually the higher the better.\n",
        "\n",
        "The selection process is this:\n",
        "\n",
        "1) Individuals are scored by the fitness function.\n",
        "\n",
        "2) Individuals are picked randomly, according to their score (higher score means higher chance to get picked). Usually the formula to calculate the chance to pick an individual is the following (for population *P* and individual *i*):\n",
        "\n",
        "$$ chance(i) = \\dfrac{fitness(i)}{\\sum_{k \\, in \\, P}{fitness(k)}} $$"
      ]
    },
    {
      "cell_type": "markdown",
      "metadata": {
        "id": "hFDpqe-R3lZy"
      },
      "source": [
        "### Implementation\n",
        "\n",
        "Below we look over the implementation of the algorithm in the `search` module.\n",
        "\n",
        "First the implementation of the main core of the algorithm:"
      ]
    },
    {
      "cell_type": "code",
      "metadata": {
        "colab": {
          "base_uri": "https://localhost:8080/",
          "height": 221
        },
        "id": "zhtwhVfZ3lZy",
        "outputId": "1c0ffb09-81b2-4e99-f37a-851064d9b078"
      },
      "source": [
        "psource(genetic_algorithm)"
      ],
      "execution_count": null,
      "outputs": [
        {
          "output_type": "display_data",
          "data": {
            "text/html": [
              "<!DOCTYPE html PUBLIC \"-//W3C//DTD HTML 4.01//EN\"\n",
              "   \"http://www.w3.org/TR/html4/strict.dtd\">\n",
              "<!--\n",
              "generated by Pygments <https://pygments.org/>\n",
              "Copyright 2006-2019 by the Pygments team.\n",
              "Licensed under the BSD license, see LICENSE for details.\n",
              "-->\n",
              "<html>\n",
              "<head>\n",
              "  <title></title>\n",
              "  <meta http-equiv=\"content-type\" content=\"text/html; charset=None\">\n",
              "  <style type=\"text/css\">\n",
              "/*\n",
              "generated by Pygments <https://pygments.org/>\n",
              "Copyright 2006-2019 by the Pygments team.\n",
              "Licensed under the BSD license, see LICENSE for details.\n",
              "*/\n",
              "td.linenos { background-color: #f0f0f0; padding-right: 10px; }\n",
              "span.lineno { background-color: #f0f0f0; padding: 0 5px 0 5px; }\n",
              "pre { line-height: 125%; }\n",
              "body .hll { background-color: #ffffcc }\n",
              "body  { background: #f8f8f8; }\n",
              "body .c { color: #408080; font-style: italic } /* Comment */\n",
              "body .err { border: 1px solid #FF0000 } /* Error */\n",
              "body .k { color: #008000; font-weight: bold } /* Keyword */\n",
              "body .o { color: #666666 } /* Operator */\n",
              "body .ch { color: #408080; font-style: italic } /* Comment.Hashbang */\n",
              "body .cm { color: #408080; font-style: italic } /* Comment.Multiline */\n",
              "body .cp { color: #BC7A00 } /* Comment.Preproc */\n",
              "body .cpf { color: #408080; font-style: italic } /* Comment.PreprocFile */\n",
              "body .c1 { color: #408080; font-style: italic } /* Comment.Single */\n",
              "body .cs { color: #408080; font-style: italic } /* Comment.Special */\n",
              "body .gd { color: #A00000 } /* Generic.Deleted */\n",
              "body .ge { font-style: italic } /* Generic.Emph */\n",
              "body .gr { color: #FF0000 } /* Generic.Error */\n",
              "body .gh { color: #000080; font-weight: bold } /* Generic.Heading */\n",
              "body .gi { color: #00A000 } /* Generic.Inserted */\n",
              "body .go { color: #888888 } /* Generic.Output */\n",
              "body .gp { color: #000080; font-weight: bold } /* Generic.Prompt */\n",
              "body .gs { font-weight: bold } /* Generic.Strong */\n",
              "body .gu { color: #800080; font-weight: bold } /* Generic.Subheading */\n",
              "body .gt { color: #0044DD } /* Generic.Traceback */\n",
              "body .kc { color: #008000; font-weight: bold } /* Keyword.Constant */\n",
              "body .kd { color: #008000; font-weight: bold } /* Keyword.Declaration */\n",
              "body .kn { color: #008000; font-weight: bold } /* Keyword.Namespace */\n",
              "body .kp { color: #008000 } /* Keyword.Pseudo */\n",
              "body .kr { color: #008000; font-weight: bold } /* Keyword.Reserved */\n",
              "body .kt { color: #B00040 } /* Keyword.Type */\n",
              "body .m { color: #666666 } /* Literal.Number */\n",
              "body .s { color: #BA2121 } /* Literal.String */\n",
              "body .na { color: #7D9029 } /* Name.Attribute */\n",
              "body .nb { color: #008000 } /* Name.Builtin */\n",
              "body .nc { color: #0000FF; font-weight: bold } /* Name.Class */\n",
              "body .no { color: #880000 } /* Name.Constant */\n",
              "body .nd { color: #AA22FF } /* Name.Decorator */\n",
              "body .ni { color: #999999; font-weight: bold } /* Name.Entity */\n",
              "body .ne { color: #D2413A; font-weight: bold } /* Name.Exception */\n",
              "body .nf { color: #0000FF } /* Name.Function */\n",
              "body .nl { color: #A0A000 } /* Name.Label */\n",
              "body .nn { color: #0000FF; font-weight: bold } /* Name.Namespace */\n",
              "body .nt { color: #008000; font-weight: bold } /* Name.Tag */\n",
              "body .nv { color: #19177C } /* Name.Variable */\n",
              "body .ow { color: #AA22FF; font-weight: bold } /* Operator.Word */\n",
              "body .w { color: #bbbbbb } /* Text.Whitespace */\n",
              "body .mb { color: #666666 } /* Literal.Number.Bin */\n",
              "body .mf { color: #666666 } /* Literal.Number.Float */\n",
              "body .mh { color: #666666 } /* Literal.Number.Hex */\n",
              "body .mi { color: #666666 } /* Literal.Number.Integer */\n",
              "body .mo { color: #666666 } /* Literal.Number.Oct */\n",
              "body .sa { color: #BA2121 } /* Literal.String.Affix */\n",
              "body .sb { color: #BA2121 } /* Literal.String.Backtick */\n",
              "body .sc { color: #BA2121 } /* Literal.String.Char */\n",
              "body .dl { color: #BA2121 } /* Literal.String.Delimiter */\n",
              "body .sd { color: #BA2121; font-style: italic } /* Literal.String.Doc */\n",
              "body .s2 { color: #BA2121 } /* Literal.String.Double */\n",
              "body .se { color: #BB6622; font-weight: bold } /* Literal.String.Escape */\n",
              "body .sh { color: #BA2121 } /* Literal.String.Heredoc */\n",
              "body .si { color: #BB6688; font-weight: bold } /* Literal.String.Interpol */\n",
              "body .sx { color: #008000 } /* Literal.String.Other */\n",
              "body .sr { color: #BB6688 } /* Literal.String.Regex */\n",
              "body .s1 { color: #BA2121 } /* Literal.String.Single */\n",
              "body .ss { color: #19177C } /* Literal.String.Symbol */\n",
              "body .bp { color: #008000 } /* Name.Builtin.Pseudo */\n",
              "body .fm { color: #0000FF } /* Name.Function.Magic */\n",
              "body .vc { color: #19177C } /* Name.Variable.Class */\n",
              "body .vg { color: #19177C } /* Name.Variable.Global */\n",
              "body .vi { color: #19177C } /* Name.Variable.Instance */\n",
              "body .vm { color: #19177C } /* Name.Variable.Magic */\n",
              "body .il { color: #666666 } /* Literal.Number.Integer.Long */\n",
              "\n",
              "  </style>\n",
              "</head>\n",
              "<body>\n",
              "<h2></h2>\n",
              "\n",
              "<div class=\"highlight\"><pre><span></span><span class=\"k\">def</span> <span class=\"nf\">genetic_algorithm</span><span class=\"p\">(</span><span class=\"n\">population</span><span class=\"p\">,</span> <span class=\"n\">fitness_fn</span><span class=\"p\">,</span> <span class=\"n\">gene_pool</span><span class=\"o\">=</span><span class=\"p\">[</span><span class=\"mi\">0</span><span class=\"p\">,</span> <span class=\"mi\">1</span><span class=\"p\">],</span> <span class=\"n\">f_thres</span><span class=\"o\">=</span><span class=\"kc\">None</span><span class=\"p\">,</span> <span class=\"n\">ngen</span><span class=\"o\">=</span><span class=\"mi\">1000</span><span class=\"p\">,</span> <span class=\"n\">pmut</span><span class=\"o\">=</span><span class=\"mf\">0.1</span><span class=\"p\">):</span>\n",
              "    <span class=\"sd\">&quot;&quot;&quot;[Figure 4.8]&quot;&quot;&quot;</span>\n",
              "    <span class=\"k\">for</span> <span class=\"n\">i</span> <span class=\"ow\">in</span> <span class=\"nb\">range</span><span class=\"p\">(</span><span class=\"n\">ngen</span><span class=\"p\">):</span>\n",
              "        <span class=\"n\">population</span> <span class=\"o\">=</span> <span class=\"p\">[</span><span class=\"n\">mutate</span><span class=\"p\">(</span><span class=\"n\">recombine</span><span class=\"p\">(</span><span class=\"o\">*</span><span class=\"n\">select</span><span class=\"p\">(</span><span class=\"mi\">2</span><span class=\"p\">,</span> <span class=\"n\">population</span><span class=\"p\">,</span> <span class=\"n\">fitness_fn</span><span class=\"p\">)),</span> <span class=\"n\">gene_pool</span><span class=\"p\">,</span> <span class=\"n\">pmut</span><span class=\"p\">)</span>\n",
              "                      <span class=\"k\">for</span> <span class=\"n\">i</span> <span class=\"ow\">in</span> <span class=\"nb\">range</span><span class=\"p\">(</span><span class=\"nb\">len</span><span class=\"p\">(</span><span class=\"n\">population</span><span class=\"p\">))]</span>\n",
              "\n",
              "        <span class=\"n\">fittest_individual</span> <span class=\"o\">=</span> <span class=\"n\">fitness_threshold</span><span class=\"p\">(</span><span class=\"n\">fitness_fn</span><span class=\"p\">,</span> <span class=\"n\">f_thres</span><span class=\"p\">,</span> <span class=\"n\">population</span><span class=\"p\">)</span>\n",
              "        <span class=\"k\">if</span> <span class=\"n\">fittest_individual</span><span class=\"p\">:</span>\n",
              "            <span class=\"k\">return</span> <span class=\"n\">fittest_individual</span>\n",
              "\n",
              "    <span class=\"k\">return</span> <span class=\"nb\">max</span><span class=\"p\">(</span><span class=\"n\">population</span><span class=\"p\">,</span> <span class=\"n\">key</span><span class=\"o\">=</span><span class=\"n\">fitness_fn</span><span class=\"p\">)</span>\n",
              "</pre></div>\n",
              "</body>\n",
              "</html>\n"
            ],
            "text/plain": [
              "<IPython.core.display.HTML object>"
            ]
          },
          "metadata": {}
        }
      ]
    },
    {
      "cell_type": "markdown",
      "metadata": {
        "id": "xmxmoi493lZ0"
      },
      "source": [
        "The algorithm takes the following input:\n",
        "\n",
        "* `population`: The initial population.\n",
        "\n",
        "* `fitness_fn`: The problem's fitness function.\n",
        "\n",
        "* `gene_pool`: The gene pool of the states/individuals. By default 0 and 1.\n",
        "\n",
        "* `f_thres`: The fitness threshold. If an individual reaches that score, iteration stops. By default 'None', which means the algorithm will not halt until the generations are ran.\n",
        "\n",
        "* `ngen`: The number of iterations/generations.\n",
        "\n",
        "* `pmut`: The probability of mutation.\n",
        "\n",
        "The algorithm gives as output the state with the largest score."
      ]
    },
    {
      "cell_type": "markdown",
      "metadata": {
        "id": "75Q3oTiB3lZ0"
      },
      "source": [
        "For each generation, the algorithm updates the population. First it calculates the fitnesses of the individuals, then it selects the most fit ones and finally crosses them over to produce offsprings. There is a chance that the offspring will be mutated, given by `pmut`. If at the end of the generation an individual meets the fitness threshold, the algorithm halts and returns that individual.\n",
        "\n",
        "The function of mating is accomplished by the method `recombine`:"
      ]
    },
    {
      "cell_type": "code",
      "metadata": {
        "colab": {
          "base_uri": "https://localhost:8080/",
          "height": 102
        },
        "id": "HgW8UcTU3lZ0",
        "outputId": "d0104b41-0421-43bf-95f8-8aff8f3bbccc"
      },
      "source": [
        "psource(recombine)"
      ],
      "execution_count": null,
      "outputs": [
        {
          "output_type": "display_data",
          "data": {
            "text/html": [
              "<!DOCTYPE html PUBLIC \"-//W3C//DTD HTML 4.01//EN\"\n",
              "   \"http://www.w3.org/TR/html4/strict.dtd\">\n",
              "<!--\n",
              "generated by Pygments <https://pygments.org/>\n",
              "Copyright 2006-2019 by the Pygments team.\n",
              "Licensed under the BSD license, see LICENSE for details.\n",
              "-->\n",
              "<html>\n",
              "<head>\n",
              "  <title></title>\n",
              "  <meta http-equiv=\"content-type\" content=\"text/html; charset=None\">\n",
              "  <style type=\"text/css\">\n",
              "/*\n",
              "generated by Pygments <https://pygments.org/>\n",
              "Copyright 2006-2019 by the Pygments team.\n",
              "Licensed under the BSD license, see LICENSE for details.\n",
              "*/\n",
              "td.linenos { background-color: #f0f0f0; padding-right: 10px; }\n",
              "span.lineno { background-color: #f0f0f0; padding: 0 5px 0 5px; }\n",
              "pre { line-height: 125%; }\n",
              "body .hll { background-color: #ffffcc }\n",
              "body  { background: #f8f8f8; }\n",
              "body .c { color: #408080; font-style: italic } /* Comment */\n",
              "body .err { border: 1px solid #FF0000 } /* Error */\n",
              "body .k { color: #008000; font-weight: bold } /* Keyword */\n",
              "body .o { color: #666666 } /* Operator */\n",
              "body .ch { color: #408080; font-style: italic } /* Comment.Hashbang */\n",
              "body .cm { color: #408080; font-style: italic } /* Comment.Multiline */\n",
              "body .cp { color: #BC7A00 } /* Comment.Preproc */\n",
              "body .cpf { color: #408080; font-style: italic } /* Comment.PreprocFile */\n",
              "body .c1 { color: #408080; font-style: italic } /* Comment.Single */\n",
              "body .cs { color: #408080; font-style: italic } /* Comment.Special */\n",
              "body .gd { color: #A00000 } /* Generic.Deleted */\n",
              "body .ge { font-style: italic } /* Generic.Emph */\n",
              "body .gr { color: #FF0000 } /* Generic.Error */\n",
              "body .gh { color: #000080; font-weight: bold } /* Generic.Heading */\n",
              "body .gi { color: #00A000 } /* Generic.Inserted */\n",
              "body .go { color: #888888 } /* Generic.Output */\n",
              "body .gp { color: #000080; font-weight: bold } /* Generic.Prompt */\n",
              "body .gs { font-weight: bold } /* Generic.Strong */\n",
              "body .gu { color: #800080; font-weight: bold } /* Generic.Subheading */\n",
              "body .gt { color: #0044DD } /* Generic.Traceback */\n",
              "body .kc { color: #008000; font-weight: bold } /* Keyword.Constant */\n",
              "body .kd { color: #008000; font-weight: bold } /* Keyword.Declaration */\n",
              "body .kn { color: #008000; font-weight: bold } /* Keyword.Namespace */\n",
              "body .kp { color: #008000 } /* Keyword.Pseudo */\n",
              "body .kr { color: #008000; font-weight: bold } /* Keyword.Reserved */\n",
              "body .kt { color: #B00040 } /* Keyword.Type */\n",
              "body .m { color: #666666 } /* Literal.Number */\n",
              "body .s { color: #BA2121 } /* Literal.String */\n",
              "body .na { color: #7D9029 } /* Name.Attribute */\n",
              "body .nb { color: #008000 } /* Name.Builtin */\n",
              "body .nc { color: #0000FF; font-weight: bold } /* Name.Class */\n",
              "body .no { color: #880000 } /* Name.Constant */\n",
              "body .nd { color: #AA22FF } /* Name.Decorator */\n",
              "body .ni { color: #999999; font-weight: bold } /* Name.Entity */\n",
              "body .ne { color: #D2413A; font-weight: bold } /* Name.Exception */\n",
              "body .nf { color: #0000FF } /* Name.Function */\n",
              "body .nl { color: #A0A000 } /* Name.Label */\n",
              "body .nn { color: #0000FF; font-weight: bold } /* Name.Namespace */\n",
              "body .nt { color: #008000; font-weight: bold } /* Name.Tag */\n",
              "body .nv { color: #19177C } /* Name.Variable */\n",
              "body .ow { color: #AA22FF; font-weight: bold } /* Operator.Word */\n",
              "body .w { color: #bbbbbb } /* Text.Whitespace */\n",
              "body .mb { color: #666666 } /* Literal.Number.Bin */\n",
              "body .mf { color: #666666 } /* Literal.Number.Float */\n",
              "body .mh { color: #666666 } /* Literal.Number.Hex */\n",
              "body .mi { color: #666666 } /* Literal.Number.Integer */\n",
              "body .mo { color: #666666 } /* Literal.Number.Oct */\n",
              "body .sa { color: #BA2121 } /* Literal.String.Affix */\n",
              "body .sb { color: #BA2121 } /* Literal.String.Backtick */\n",
              "body .sc { color: #BA2121 } /* Literal.String.Char */\n",
              "body .dl { color: #BA2121 } /* Literal.String.Delimiter */\n",
              "body .sd { color: #BA2121; font-style: italic } /* Literal.String.Doc */\n",
              "body .s2 { color: #BA2121 } /* Literal.String.Double */\n",
              "body .se { color: #BB6622; font-weight: bold } /* Literal.String.Escape */\n",
              "body .sh { color: #BA2121 } /* Literal.String.Heredoc */\n",
              "body .si { color: #BB6688; font-weight: bold } /* Literal.String.Interpol */\n",
              "body .sx { color: #008000 } /* Literal.String.Other */\n",
              "body .sr { color: #BB6688 } /* Literal.String.Regex */\n",
              "body .s1 { color: #BA2121 } /* Literal.String.Single */\n",
              "body .ss { color: #19177C } /* Literal.String.Symbol */\n",
              "body .bp { color: #008000 } /* Name.Builtin.Pseudo */\n",
              "body .fm { color: #0000FF } /* Name.Function.Magic */\n",
              "body .vc { color: #19177C } /* Name.Variable.Class */\n",
              "body .vg { color: #19177C } /* Name.Variable.Global */\n",
              "body .vi { color: #19177C } /* Name.Variable.Instance */\n",
              "body .vm { color: #19177C } /* Name.Variable.Magic */\n",
              "body .il { color: #666666 } /* Literal.Number.Integer.Long */\n",
              "\n",
              "  </style>\n",
              "</head>\n",
              "<body>\n",
              "<h2></h2>\n",
              "\n",
              "<div class=\"highlight\"><pre><span></span><span class=\"k\">def</span> <span class=\"nf\">recombine</span><span class=\"p\">(</span><span class=\"n\">x</span><span class=\"p\">,</span> <span class=\"n\">y</span><span class=\"p\">):</span>\n",
              "    <span class=\"n\">n</span> <span class=\"o\">=</span> <span class=\"nb\">len</span><span class=\"p\">(</span><span class=\"n\">x</span><span class=\"p\">)</span>\n",
              "    <span class=\"n\">c</span> <span class=\"o\">=</span> <span class=\"n\">random</span><span class=\"o\">.</span><span class=\"n\">randrange</span><span class=\"p\">(</span><span class=\"mi\">0</span><span class=\"p\">,</span> <span class=\"n\">n</span><span class=\"p\">)</span>\n",
              "    <span class=\"k\">return</span> <span class=\"n\">x</span><span class=\"p\">[:</span><span class=\"n\">c</span><span class=\"p\">]</span> <span class=\"o\">+</span> <span class=\"n\">y</span><span class=\"p\">[</span><span class=\"n\">c</span><span class=\"p\">:]</span>\n",
              "</pre></div>\n",
              "</body>\n",
              "</html>\n"
            ],
            "text/plain": [
              "<IPython.core.display.HTML object>"
            ]
          },
          "metadata": {}
        }
      ]
    },
    {
      "cell_type": "markdown",
      "metadata": {
        "id": "8ynCjbVt3lZ1"
      },
      "source": [
        "The method picks at random a point and merges the parents (`x` and `y`) around it.\n",
        "\n",
        "The mutation is done in the method `mutate`:"
      ]
    },
    {
      "cell_type": "code",
      "metadata": {
        "colab": {
          "base_uri": "https://localhost:8080/",
          "height": 221
        },
        "id": "mzpgGTqc3lZ1",
        "outputId": "5f42266b-f4e7-47b8-a6b0-3fca3f8d811a"
      },
      "source": [
        "psource(mutate)"
      ],
      "execution_count": null,
      "outputs": [
        {
          "output_type": "display_data",
          "data": {
            "text/html": [
              "<!DOCTYPE html PUBLIC \"-//W3C//DTD HTML 4.01//EN\"\n",
              "   \"http://www.w3.org/TR/html4/strict.dtd\">\n",
              "<!--\n",
              "generated by Pygments <https://pygments.org/>\n",
              "Copyright 2006-2019 by the Pygments team.\n",
              "Licensed under the BSD license, see LICENSE for details.\n",
              "-->\n",
              "<html>\n",
              "<head>\n",
              "  <title></title>\n",
              "  <meta http-equiv=\"content-type\" content=\"text/html; charset=None\">\n",
              "  <style type=\"text/css\">\n",
              "/*\n",
              "generated by Pygments <https://pygments.org/>\n",
              "Copyright 2006-2019 by the Pygments team.\n",
              "Licensed under the BSD license, see LICENSE for details.\n",
              "*/\n",
              "td.linenos { background-color: #f0f0f0; padding-right: 10px; }\n",
              "span.lineno { background-color: #f0f0f0; padding: 0 5px 0 5px; }\n",
              "pre { line-height: 125%; }\n",
              "body .hll { background-color: #ffffcc }\n",
              "body  { background: #f8f8f8; }\n",
              "body .c { color: #408080; font-style: italic } /* Comment */\n",
              "body .err { border: 1px solid #FF0000 } /* Error */\n",
              "body .k { color: #008000; font-weight: bold } /* Keyword */\n",
              "body .o { color: #666666 } /* Operator */\n",
              "body .ch { color: #408080; font-style: italic } /* Comment.Hashbang */\n",
              "body .cm { color: #408080; font-style: italic } /* Comment.Multiline */\n",
              "body .cp { color: #BC7A00 } /* Comment.Preproc */\n",
              "body .cpf { color: #408080; font-style: italic } /* Comment.PreprocFile */\n",
              "body .c1 { color: #408080; font-style: italic } /* Comment.Single */\n",
              "body .cs { color: #408080; font-style: italic } /* Comment.Special */\n",
              "body .gd { color: #A00000 } /* Generic.Deleted */\n",
              "body .ge { font-style: italic } /* Generic.Emph */\n",
              "body .gr { color: #FF0000 } /* Generic.Error */\n",
              "body .gh { color: #000080; font-weight: bold } /* Generic.Heading */\n",
              "body .gi { color: #00A000 } /* Generic.Inserted */\n",
              "body .go { color: #888888 } /* Generic.Output */\n",
              "body .gp { color: #000080; font-weight: bold } /* Generic.Prompt */\n",
              "body .gs { font-weight: bold } /* Generic.Strong */\n",
              "body .gu { color: #800080; font-weight: bold } /* Generic.Subheading */\n",
              "body .gt { color: #0044DD } /* Generic.Traceback */\n",
              "body .kc { color: #008000; font-weight: bold } /* Keyword.Constant */\n",
              "body .kd { color: #008000; font-weight: bold } /* Keyword.Declaration */\n",
              "body .kn { color: #008000; font-weight: bold } /* Keyword.Namespace */\n",
              "body .kp { color: #008000 } /* Keyword.Pseudo */\n",
              "body .kr { color: #008000; font-weight: bold } /* Keyword.Reserved */\n",
              "body .kt { color: #B00040 } /* Keyword.Type */\n",
              "body .m { color: #666666 } /* Literal.Number */\n",
              "body .s { color: #BA2121 } /* Literal.String */\n",
              "body .na { color: #7D9029 } /* Name.Attribute */\n",
              "body .nb { color: #008000 } /* Name.Builtin */\n",
              "body .nc { color: #0000FF; font-weight: bold } /* Name.Class */\n",
              "body .no { color: #880000 } /* Name.Constant */\n",
              "body .nd { color: #AA22FF } /* Name.Decorator */\n",
              "body .ni { color: #999999; font-weight: bold } /* Name.Entity */\n",
              "body .ne { color: #D2413A; font-weight: bold } /* Name.Exception */\n",
              "body .nf { color: #0000FF } /* Name.Function */\n",
              "body .nl { color: #A0A000 } /* Name.Label */\n",
              "body .nn { color: #0000FF; font-weight: bold } /* Name.Namespace */\n",
              "body .nt { color: #008000; font-weight: bold } /* Name.Tag */\n",
              "body .nv { color: #19177C } /* Name.Variable */\n",
              "body .ow { color: #AA22FF; font-weight: bold } /* Operator.Word */\n",
              "body .w { color: #bbbbbb } /* Text.Whitespace */\n",
              "body .mb { color: #666666 } /* Literal.Number.Bin */\n",
              "body .mf { color: #666666 } /* Literal.Number.Float */\n",
              "body .mh { color: #666666 } /* Literal.Number.Hex */\n",
              "body .mi { color: #666666 } /* Literal.Number.Integer */\n",
              "body .mo { color: #666666 } /* Literal.Number.Oct */\n",
              "body .sa { color: #BA2121 } /* Literal.String.Affix */\n",
              "body .sb { color: #BA2121 } /* Literal.String.Backtick */\n",
              "body .sc { color: #BA2121 } /* Literal.String.Char */\n",
              "body .dl { color: #BA2121 } /* Literal.String.Delimiter */\n",
              "body .sd { color: #BA2121; font-style: italic } /* Literal.String.Doc */\n",
              "body .s2 { color: #BA2121 } /* Literal.String.Double */\n",
              "body .se { color: #BB6622; font-weight: bold } /* Literal.String.Escape */\n",
              "body .sh { color: #BA2121 } /* Literal.String.Heredoc */\n",
              "body .si { color: #BB6688; font-weight: bold } /* Literal.String.Interpol */\n",
              "body .sx { color: #008000 } /* Literal.String.Other */\n",
              "body .sr { color: #BB6688 } /* Literal.String.Regex */\n",
              "body .s1 { color: #BA2121 } /* Literal.String.Single */\n",
              "body .ss { color: #19177C } /* Literal.String.Symbol */\n",
              "body .bp { color: #008000 } /* Name.Builtin.Pseudo */\n",
              "body .fm { color: #0000FF } /* Name.Function.Magic */\n",
              "body .vc { color: #19177C } /* Name.Variable.Class */\n",
              "body .vg { color: #19177C } /* Name.Variable.Global */\n",
              "body .vi { color: #19177C } /* Name.Variable.Instance */\n",
              "body .vm { color: #19177C } /* Name.Variable.Magic */\n",
              "body .il { color: #666666 } /* Literal.Number.Integer.Long */\n",
              "\n",
              "  </style>\n",
              "</head>\n",
              "<body>\n",
              "<h2></h2>\n",
              "\n",
              "<div class=\"highlight\"><pre><span></span><span class=\"k\">def</span> <span class=\"nf\">mutate</span><span class=\"p\">(</span><span class=\"n\">x</span><span class=\"p\">,</span> <span class=\"n\">gene_pool</span><span class=\"p\">,</span> <span class=\"n\">pmut</span><span class=\"p\">):</span>\n",
              "    <span class=\"k\">if</span> <span class=\"n\">random</span><span class=\"o\">.</span><span class=\"n\">uniform</span><span class=\"p\">(</span><span class=\"mi\">0</span><span class=\"p\">,</span> <span class=\"mi\">1</span><span class=\"p\">)</span> <span class=\"o\">&gt;=</span> <span class=\"n\">pmut</span><span class=\"p\">:</span>\n",
              "        <span class=\"k\">return</span> <span class=\"n\">x</span>\n",
              "\n",
              "    <span class=\"n\">n</span> <span class=\"o\">=</span> <span class=\"nb\">len</span><span class=\"p\">(</span><span class=\"n\">x</span><span class=\"p\">)</span>\n",
              "    <span class=\"n\">g</span> <span class=\"o\">=</span> <span class=\"nb\">len</span><span class=\"p\">(</span><span class=\"n\">gene_pool</span><span class=\"p\">)</span>\n",
              "    <span class=\"n\">c</span> <span class=\"o\">=</span> <span class=\"n\">random</span><span class=\"o\">.</span><span class=\"n\">randrange</span><span class=\"p\">(</span><span class=\"mi\">0</span><span class=\"p\">,</span> <span class=\"n\">n</span><span class=\"p\">)</span>\n",
              "    <span class=\"n\">r</span> <span class=\"o\">=</span> <span class=\"n\">random</span><span class=\"o\">.</span><span class=\"n\">randrange</span><span class=\"p\">(</span><span class=\"mi\">0</span><span class=\"p\">,</span> <span class=\"n\">g</span><span class=\"p\">)</span>\n",
              "\n",
              "    <span class=\"n\">new_gene</span> <span class=\"o\">=</span> <span class=\"n\">gene_pool</span><span class=\"p\">[</span><span class=\"n\">r</span><span class=\"p\">]</span>\n",
              "    <span class=\"k\">return</span> <span class=\"n\">x</span><span class=\"p\">[:</span><span class=\"n\">c</span><span class=\"p\">]</span> <span class=\"o\">+</span> <span class=\"p\">[</span><span class=\"n\">new_gene</span><span class=\"p\">]</span> <span class=\"o\">+</span> <span class=\"n\">x</span><span class=\"p\">[</span><span class=\"n\">c</span> <span class=\"o\">+</span> <span class=\"mi\">1</span><span class=\"p\">:]</span>\n",
              "</pre></div>\n",
              "</body>\n",
              "</html>\n"
            ],
            "text/plain": [
              "<IPython.core.display.HTML object>"
            ]
          },
          "metadata": {}
        }
      ]
    },
    {
      "cell_type": "markdown",
      "metadata": {
        "id": "43_OfJUu3lZ1"
      },
      "source": [
        "We pick a gene in `x` to mutate and a gene from the gene pool to replace it with.\n",
        "\n",
        "To help initializing the population we have the helper function `init_population`\":"
      ]
    },
    {
      "cell_type": "code",
      "metadata": {
        "colab": {
          "base_uri": "https://localhost:8080/",
          "height": 238
        },
        "id": "HFqittjE3lZ2",
        "outputId": "6950dcd1-b800-4ddb-8bb2-2fcb7c3bcf65"
      },
      "source": [
        "psource(init_population)"
      ],
      "execution_count": null,
      "outputs": [
        {
          "output_type": "display_data",
          "data": {
            "text/html": [
              "<!DOCTYPE html PUBLIC \"-//W3C//DTD HTML 4.01//EN\"\n",
              "   \"http://www.w3.org/TR/html4/strict.dtd\">\n",
              "<!--\n",
              "generated by Pygments <https://pygments.org/>\n",
              "Copyright 2006-2019 by the Pygments team.\n",
              "Licensed under the BSD license, see LICENSE for details.\n",
              "-->\n",
              "<html>\n",
              "<head>\n",
              "  <title></title>\n",
              "  <meta http-equiv=\"content-type\" content=\"text/html; charset=None\">\n",
              "  <style type=\"text/css\">\n",
              "/*\n",
              "generated by Pygments <https://pygments.org/>\n",
              "Copyright 2006-2019 by the Pygments team.\n",
              "Licensed under the BSD license, see LICENSE for details.\n",
              "*/\n",
              "td.linenos { background-color: #f0f0f0; padding-right: 10px; }\n",
              "span.lineno { background-color: #f0f0f0; padding: 0 5px 0 5px; }\n",
              "pre { line-height: 125%; }\n",
              "body .hll { background-color: #ffffcc }\n",
              "body  { background: #f8f8f8; }\n",
              "body .c { color: #408080; font-style: italic } /* Comment */\n",
              "body .err { border: 1px solid #FF0000 } /* Error */\n",
              "body .k { color: #008000; font-weight: bold } /* Keyword */\n",
              "body .o { color: #666666 } /* Operator */\n",
              "body .ch { color: #408080; font-style: italic } /* Comment.Hashbang */\n",
              "body .cm { color: #408080; font-style: italic } /* Comment.Multiline */\n",
              "body .cp { color: #BC7A00 } /* Comment.Preproc */\n",
              "body .cpf { color: #408080; font-style: italic } /* Comment.PreprocFile */\n",
              "body .c1 { color: #408080; font-style: italic } /* Comment.Single */\n",
              "body .cs { color: #408080; font-style: italic } /* Comment.Special */\n",
              "body .gd { color: #A00000 } /* Generic.Deleted */\n",
              "body .ge { font-style: italic } /* Generic.Emph */\n",
              "body .gr { color: #FF0000 } /* Generic.Error */\n",
              "body .gh { color: #000080; font-weight: bold } /* Generic.Heading */\n",
              "body .gi { color: #00A000 } /* Generic.Inserted */\n",
              "body .go { color: #888888 } /* Generic.Output */\n",
              "body .gp { color: #000080; font-weight: bold } /* Generic.Prompt */\n",
              "body .gs { font-weight: bold } /* Generic.Strong */\n",
              "body .gu { color: #800080; font-weight: bold } /* Generic.Subheading */\n",
              "body .gt { color: #0044DD } /* Generic.Traceback */\n",
              "body .kc { color: #008000; font-weight: bold } /* Keyword.Constant */\n",
              "body .kd { color: #008000; font-weight: bold } /* Keyword.Declaration */\n",
              "body .kn { color: #008000; font-weight: bold } /* Keyword.Namespace */\n",
              "body .kp { color: #008000 } /* Keyword.Pseudo */\n",
              "body .kr { color: #008000; font-weight: bold } /* Keyword.Reserved */\n",
              "body .kt { color: #B00040 } /* Keyword.Type */\n",
              "body .m { color: #666666 } /* Literal.Number */\n",
              "body .s { color: #BA2121 } /* Literal.String */\n",
              "body .na { color: #7D9029 } /* Name.Attribute */\n",
              "body .nb { color: #008000 } /* Name.Builtin */\n",
              "body .nc { color: #0000FF; font-weight: bold } /* Name.Class */\n",
              "body .no { color: #880000 } /* Name.Constant */\n",
              "body .nd { color: #AA22FF } /* Name.Decorator */\n",
              "body .ni { color: #999999; font-weight: bold } /* Name.Entity */\n",
              "body .ne { color: #D2413A; font-weight: bold } /* Name.Exception */\n",
              "body .nf { color: #0000FF } /* Name.Function */\n",
              "body .nl { color: #A0A000 } /* Name.Label */\n",
              "body .nn { color: #0000FF; font-weight: bold } /* Name.Namespace */\n",
              "body .nt { color: #008000; font-weight: bold } /* Name.Tag */\n",
              "body .nv { color: #19177C } /* Name.Variable */\n",
              "body .ow { color: #AA22FF; font-weight: bold } /* Operator.Word */\n",
              "body .w { color: #bbbbbb } /* Text.Whitespace */\n",
              "body .mb { color: #666666 } /* Literal.Number.Bin */\n",
              "body .mf { color: #666666 } /* Literal.Number.Float */\n",
              "body .mh { color: #666666 } /* Literal.Number.Hex */\n",
              "body .mi { color: #666666 } /* Literal.Number.Integer */\n",
              "body .mo { color: #666666 } /* Literal.Number.Oct */\n",
              "body .sa { color: #BA2121 } /* Literal.String.Affix */\n",
              "body .sb { color: #BA2121 } /* Literal.String.Backtick */\n",
              "body .sc { color: #BA2121 } /* Literal.String.Char */\n",
              "body .dl { color: #BA2121 } /* Literal.String.Delimiter */\n",
              "body .sd { color: #BA2121; font-style: italic } /* Literal.String.Doc */\n",
              "body .s2 { color: #BA2121 } /* Literal.String.Double */\n",
              "body .se { color: #BB6622; font-weight: bold } /* Literal.String.Escape */\n",
              "body .sh { color: #BA2121 } /* Literal.String.Heredoc */\n",
              "body .si { color: #BB6688; font-weight: bold } /* Literal.String.Interpol */\n",
              "body .sx { color: #008000 } /* Literal.String.Other */\n",
              "body .sr { color: #BB6688 } /* Literal.String.Regex */\n",
              "body .s1 { color: #BA2121 } /* Literal.String.Single */\n",
              "body .ss { color: #19177C } /* Literal.String.Symbol */\n",
              "body .bp { color: #008000 } /* Name.Builtin.Pseudo */\n",
              "body .fm { color: #0000FF } /* Name.Function.Magic */\n",
              "body .vc { color: #19177C } /* Name.Variable.Class */\n",
              "body .vg { color: #19177C } /* Name.Variable.Global */\n",
              "body .vi { color: #19177C } /* Name.Variable.Instance */\n",
              "body .vm { color: #19177C } /* Name.Variable.Magic */\n",
              "body .il { color: #666666 } /* Literal.Number.Integer.Long */\n",
              "\n",
              "  </style>\n",
              "</head>\n",
              "<body>\n",
              "<h2></h2>\n",
              "\n",
              "<div class=\"highlight\"><pre><span></span><span class=\"k\">def</span> <span class=\"nf\">init_population</span><span class=\"p\">(</span><span class=\"n\">pop_number</span><span class=\"p\">,</span> <span class=\"n\">gene_pool</span><span class=\"p\">,</span> <span class=\"n\">state_length</span><span class=\"p\">):</span>\n",
              "    <span class=\"sd\">&quot;&quot;&quot;Initializes population for genetic algorithm</span>\n",
              "<span class=\"sd\">    pop_number  :  Number of individuals in population</span>\n",
              "<span class=\"sd\">    gene_pool   :  List of possible values for individuals</span>\n",
              "<span class=\"sd\">    state_length:  The length of each individual&quot;&quot;&quot;</span>\n",
              "    <span class=\"n\">g</span> <span class=\"o\">=</span> <span class=\"nb\">len</span><span class=\"p\">(</span><span class=\"n\">gene_pool</span><span class=\"p\">)</span>\n",
              "    <span class=\"n\">population</span> <span class=\"o\">=</span> <span class=\"p\">[]</span>\n",
              "    <span class=\"k\">for</span> <span class=\"n\">i</span> <span class=\"ow\">in</span> <span class=\"nb\">range</span><span class=\"p\">(</span><span class=\"n\">pop_number</span><span class=\"p\">):</span>\n",
              "        <span class=\"n\">new_individual</span> <span class=\"o\">=</span> <span class=\"p\">[</span><span class=\"n\">gene_pool</span><span class=\"p\">[</span><span class=\"n\">random</span><span class=\"o\">.</span><span class=\"n\">randrange</span><span class=\"p\">(</span><span class=\"mi\">0</span><span class=\"p\">,</span> <span class=\"n\">g</span><span class=\"p\">)]</span> <span class=\"k\">for</span> <span class=\"n\">j</span> <span class=\"ow\">in</span> <span class=\"nb\">range</span><span class=\"p\">(</span><span class=\"n\">state_length</span><span class=\"p\">)]</span>\n",
              "        <span class=\"n\">population</span><span class=\"o\">.</span><span class=\"n\">append</span><span class=\"p\">(</span><span class=\"n\">new_individual</span><span class=\"p\">)</span>\n",
              "\n",
              "    <span class=\"k\">return</span> <span class=\"n\">population</span>\n",
              "</pre></div>\n",
              "</body>\n",
              "</html>\n"
            ],
            "text/plain": [
              "<IPython.core.display.HTML object>"
            ]
          },
          "metadata": {}
        }
      ]
    },
    {
      "cell_type": "markdown",
      "metadata": {
        "id": "7Q-EYJMJ3lZ2"
      },
      "source": [
        "The function takes as input the number of individuals in the population, the gene pool and the length of each individual/state. It creates individuals with random genes and returns the population when done."
      ]
    },
    {
      "cell_type": "markdown",
      "metadata": {
        "id": "dP1teUM33lZ2"
      },
      "source": [
        "### Explanation\n",
        "\n",
        "Before we solve problems using the genetic algorithm, we will explain how to intuitively understand the algorithm using a trivial example.\n",
        "\n",
        "#### Generating Phrases\n",
        "\n",
        "In this problem, we use a genetic algorithm to generate a particular target phrase from a population of random strings. This is a classic example that helps build intuition about how to use this algorithm in other problems as well. Before we break the problem down, let us try to brute force the solution. Let us say that we want to generate the phrase \"genetic algorithm\". The phrase is 17 characters long. We can use any character from the 26 lowercase characters and the space character. To generate a random phrase of length 17, each space can be filled in 27 ways. So the total number of possible phrases is\n",
        "\n",
        "$$ 27^{17} = 2153693963075557766310747 $$\n",
        "\n",
        "which is a massive number. If we wanted to generate the phrase \"Genetic Algorithm\", we would also have to include all the 26 uppercase characters into consideration thereby increasing the sample space from 27 characters to 53 characters and the total number of possible phrases then would be\n",
        "\n",
        "$$ 53^{17} = 205442259656281392806087233013 $$\n",
        "\n",
        "If we wanted to include punctuations and numerals into the sample space, we would have further complicated an already impossible problem. Hence, brute forcing is not an option. Now we'll apply the genetic algorithm and see how it significantly reduces the search space. We essentially want to *evolve* our population of random strings so that they better approximate the target phrase as the number of generations increase. Genetic algorithms work on the principle of Darwinian Natural Selection according to which, there are three key concepts that need to be in place for evolution to happen. They are:\n",
        "\n",
        "* **Heredity**: There must be a process in place by which children receive the properties of their parents. <br> \n",
        "For this particular problem, two strings from the population will be chosen as parents and will be split at a random index and recombined as described in the `recombine` function to create a child. This child string will then be added to the new generation.\n",
        "\n",
        "\n",
        "* **Variation**: There must be a variety of traits present in the population or a means with which to introduce variation. <br>If there is no variation in the sample space, we might never reach the global optimum. To ensure that there is enough variation, we can initialize a large population, but this gets computationally expensive as the population gets larger. Hence, we often use another method called mutation. In this method, we randomly change one or more characters of some strings in the population based on a predefined probability value called the mutation rate or mutation probability as described in the `mutate` function. The mutation rate is usually kept quite low. A mutation rate of zero fails to introduce variation in the population and a high mutation rate (say 50%) is as good as a coin flip and the population fails to benefit from the previous recombinations. An optimum balance has to be maintained between population size and mutation rate so as to reduce the computational cost as well as have sufficient variation in the population.\n",
        "\n",
        "\n",
        "* **Selection**: There must be some mechanism by which some members of the population have the opportunity to be parents and pass down their genetic information and some do not. This is typically referred to as \"survival of the fittest\". <br>\n",
        "There has to be some way of determining which phrases in our population have a better chance of eventually evolving into the target phrase. This is done by introducing a fitness function that calculates how close the generated phrase is to the target phrase. The function will simply return a scalar value corresponding to the number of matching characters between the generated phrase and the target phrase."
      ]
    },
    {
      "cell_type": "markdown",
      "metadata": {
        "id": "JbxeDpB53lZ3"
      },
      "source": [
        "Before solving the problem, we first need to define our target phrase."
      ]
    },
    {
      "cell_type": "code",
      "metadata": {
        "id": "RS-2fnDr3lZ3"
      },
      "source": [
        "target = 'Genetic Algorithm'"
      ],
      "execution_count": null,
      "outputs": []
    },
    {
      "cell_type": "markdown",
      "metadata": {
        "collapsed": true,
        "id": "o5-cgqMu3lZ3"
      },
      "source": [
        "We then need to define our gene pool, i.e the elements which an individual from the population might comprise of. Here, the gene pool contains all uppercase and lowercase letters of the English alphabet and the space character."
      ]
    },
    {
      "cell_type": "code",
      "metadata": {
        "id": "J9ovs3pB3lZ3"
      },
      "source": [
        "# The ASCII values of uppercase characters ranges from 65 to 91\n",
        "u_case = [chr(x) for x in range(65, 91)]\n",
        "# The ASCII values of lowercase characters ranges from 97 to 123\n",
        "l_case = [chr(x) for x in range(97, 123)]\n",
        "\n",
        "gene_pool = []\n",
        "gene_pool.extend(u_case) # adds the uppercase list to the gene pool\n",
        "gene_pool.extend(l_case) # adds the lowercase list to the gene pool\n",
        "gene_pool.append(' ')    # adds the space character to the gene pool"
      ],
      "execution_count": null,
      "outputs": []
    },
    {
      "cell_type": "markdown",
      "metadata": {
        "id": "Gwa-GDZq3lZ4"
      },
      "source": [
        "We **print** all the possible values that can take the genes"
      ]
    },
    {
      "cell_type": "code",
      "metadata": {
        "colab": {
          "base_uri": "https://localhost:8080/"
        },
        "id": "J5GHisBY3lZ4",
        "outputId": "a838e4a7-47cd-466c-f544-f2f6cf2a762f"
      },
      "source": [
        "print (gene_pool)"
      ],
      "execution_count": null,
      "outputs": [
        {
          "output_type": "stream",
          "name": "stdout",
          "text": [
            "['A', 'B', 'C', 'D', 'E', 'F', 'G', 'H', 'I', 'J', 'K', 'L', 'M', 'N', 'O', 'P', 'Q', 'R', 'S', 'T', 'U', 'V', 'W', 'X', 'Y', 'Z', 'a', 'b', 'c', 'd', 'e', 'f', 'g', 'h', 'i', 'j', 'k', 'l', 'm', 'n', 'o', 'p', 'q', 'r', 's', 't', 'u', 'v', 'w', 'x', 'y', 'z', ' ']\n"
          ]
        }
      ]
    },
    {
      "cell_type": "markdown",
      "metadata": {
        "id": "efP1Sbii3lZ4"
      },
      "source": [
        "We now need to define the maximum size of each population. Larger populations have more variation but are computationally more  expensive to run algorithms on."
      ]
    },
    {
      "cell_type": "code",
      "metadata": {
        "id": "eUfZrHkV3lZ4"
      },
      "source": [
        "max_population = 100"
      ],
      "execution_count": null,
      "outputs": []
    },
    {
      "cell_type": "markdown",
      "metadata": {
        "id": "303oEcVI3lZ5"
      },
      "source": [
        "As our population is not very large, we can afford to keep a relatively large mutation rate."
      ]
    },
    {
      "cell_type": "code",
      "metadata": {
        "id": "v2Sb4KFG3lZ5"
      },
      "source": [
        "mutation_rate = 0.07 # 7%"
      ],
      "execution_count": null,
      "outputs": []
    },
    {
      "cell_type": "markdown",
      "metadata": {
        "id": "AE3ve4n53lZ5"
      },
      "source": [
        "Great! Now, we need to define the most important metric for the genetic algorithm, i.e the fitness function. This will simply return the number of matching characters between the generated sample and the target phrase."
      ]
    },
    {
      "cell_type": "code",
      "metadata": {
        "id": "MnQSc6oD3lZ5"
      },
      "source": [
        "def fitness_fn(sample):\n",
        "    # initialize fitness to 0\n",
        "    fitness = 0\n",
        "    for i in range(len(sample)):\n",
        "        # increment fitness by 1 for every matching character\n",
        "        if sample[i] == target[i]:\n",
        "            fitness += 1\n",
        "    return fitness"
      ],
      "execution_count": null,
      "outputs": []
    },
    {
      "cell_type": "markdown",
      "metadata": {
        "id": "fzyOQAyT3lZ5"
      },
      "source": [
        "Before we run our genetic algorithm, we need to initialize a random population. We will use the `init_population` function to do this. We need to pass in the maximum population size, the gene pool and the length of each individual, which in this case will be the same as the length of the target phrase."
      ]
    },
    {
      "cell_type": "code",
      "metadata": {
        "id": "hVqQCqZp3lZ5"
      },
      "source": [
        "population = init_population(max_population, gene_pool, len(target))"
      ],
      "execution_count": null,
      "outputs": []
    },
    {
      "cell_type": "markdown",
      "metadata": {
        "id": "9QOPGRd43lZ6"
      },
      "source": [
        "Now, we show the **initial population**"
      ]
    },
    {
      "cell_type": "code",
      "metadata": {
        "colab": {
          "base_uri": "https://localhost:8080/"
        },
        "id": "gSYrxHzO3lZ6",
        "outputId": "a17d200d-dcd5-4959-f8eb-875120ffed5c"
      },
      "source": [
        "for i in population:\n",
        "    print (target)\n",
        "    print (i,fitness_fn(i))"
      ],
      "execution_count": null,
      "outputs": [
        {
          "output_type": "stream",
          "name": "stdout",
          "text": [
            "Genetic Algorithm\n",
            "['l', 'M', 'B', 'k', 'U', 'H', 'o', 'l', 'H', 'l', 'W', 'Y', 'M', 'A', 'e', 'F', 'E'] 1\n",
            "Genetic Algorithm\n",
            "['u', 'n', 'r', ' ', 's', 'c', 'G', 'x', 'R', 'C', 'V', 'D', 'J', 'C', 'j', 'P', 'C'] 0\n",
            "Genetic Algorithm\n",
            "['d', 'K', 'n', 'b', 'f', 'l', 'M', 'd', 'g', 'm', 'l', 'K', 'T', 'i', 'Y', 's', 'r'] 2\n",
            "Genetic Algorithm\n",
            "['l', 'w', 'l', 'Q', 'y', 'V', 'L', 'O', 'q', 'p', 'H', 'r', 'l', 'Z', 'w', 'g', 'O'] 0\n",
            "Genetic Algorithm\n",
            "['a', 'A', 'P', 'x', 'J', 'K', 'T', 'M', 'v', 'C', 'K', 'O', 'G', 'r', 'I', 'K', 'f'] 0\n",
            "Genetic Algorithm\n",
            "['B', 'w', 's', 'V', 'F', 'h', 'D', 'H', 'I', 'i', 'j', 'x', 'p', 'o', 'U', 'S', 'm'] 1\n",
            "Genetic Algorithm\n",
            "['e', 'W', 'g', 'r', 'h', 'M', 'i', 'n', 'L', 'P', 'F', 'R', 'k', 'l', 't', 'S', 'Z'] 1\n",
            "Genetic Algorithm\n",
            "['s', 'a', 'L', ' ', 'G', 'v', 's', 'u', 'N', 'A', 'K', 'n', 'd', 'X', 'L', 'f', 'E'] 0\n",
            "Genetic Algorithm\n",
            "['D', 'q', 'i', 'f', 'M', 't', 'a', 'V', 'J', 'a', 'N', 'H', 'g', 'S', 'm', 'V', 'P'] 0\n",
            "Genetic Algorithm\n",
            "['m', 'U', 'i', 'l', 'N', 'H', 'e', 'V', 'x', 'd', 'o', 'E', 'K', 'E', 'q', 'R', 'f'] 0\n",
            "Genetic Algorithm\n",
            "['s', 'O', 'b', 'm', 'Z', 'f', 'i', 's', 'K', 'G', 'e', 'X', 'b', 'L', 'V', 'n', 'Z'] 0\n",
            "Genetic Algorithm\n",
            "['c', 'N', 'Q', 'j', 'P', 'j', 'J', 'G', 'e', 'P', 'v', 'B', 'l', 'A', 'a', 'k', 'd'] 0\n",
            "Genetic Algorithm\n",
            "['X', 'V', 'R', 'T', 'w', 'S', 'k', 'H', 'Q', 'R', 'N', 'e', 'v', 'u', 's', 'S', 'n'] 0\n",
            "Genetic Algorithm\n",
            "['D', 't', 'f', 'd', 'Q', 'T', 'X', 'X', 'V', 'p', 'S', 'Q', 'o', 'r', 'B', 'N', 'q'] 0\n",
            "Genetic Algorithm\n",
            "['F', 'c', 'C', 'm', 'L', 'B', 'd', 'q', 'l', 'C', 'g', 's', 'P', 'q', 'U', 'j', 'f'] 1\n",
            "Genetic Algorithm\n",
            "['M', 'Q', 's', 'q', 'M', 'y', 'e', 'x', 'I', 'T', 'W', 'I', 'A', 'G', 'P', 'A', 't'] 0\n",
            "Genetic Algorithm\n",
            "['z', 't', 'B', 'S', 's', 'e', 'l', 'm', 'V', 'X', 'R', 'h', 'Y', 'i', 'c', 'X', 'L'] 1\n",
            "Genetic Algorithm\n",
            "['B', 'w', 'E', 'o', 'S', 'O', 'L', 'G', 'e', 't', 'l', 't', 'e', 'x', 'x', 'R', 'r'] 0\n",
            "Genetic Algorithm\n",
            "['j', 'l', 'f', 'M', 'u', 'u', 'q', 'Y', 'B', 'W', 'f', 'Y', 'M', 'q', 'Y', 'i', 'v'] 0\n",
            "Genetic Algorithm\n",
            "['s', 'C', 'v', 'K', 'g', 'I', 'C', 'G', 'I', 'a', 'Q', 'F', 'W', 'e', 'g', 'h', 'p'] 1\n",
            "Genetic Algorithm\n",
            "['t', 's', 'A', 'q', 'A', 'r', 'U', 'n', 'q', 'M', 'X', 'C', 'F', 'T', ' ', 'D', 'P'] 0\n",
            "Genetic Algorithm\n",
            "['d', 'O', 'I', 's', 'S', 'e', 'M', 'u', 'u', 'p', 'C', 'Q', 'H', 's', ' ', 'v', 'x'] 0\n",
            "Genetic Algorithm\n",
            "['N', 'S', 'E', 'i', 's', 'K', 'p', 'B', 'h', 'j', 'p', 'D', 'y', 'Z', 'J', 'K', 'Y'] 0\n",
            "Genetic Algorithm\n",
            "['b', 'e', 'Q', 'L', 'K', 'd', 'v', 'C', 'g', 'W', 'b', 'q', 'z', 's', 'X', 'b', 'F'] 1\n",
            "Genetic Algorithm\n",
            "['m', 'h', 'W', 'Z', 'w', 'L', 'o', 'J', 'H', 'R', 'G', 'n', 'C', 'I', 'r', 'L', 'd'] 0\n",
            "Genetic Algorithm\n",
            "['J', 's', 'D', 'e', 'N', 'U', 'c', 'J', 'L', 'H', 'I', 'N', 'F', 'd', 'u', 'Z', 'Q'] 2\n",
            "Genetic Algorithm\n",
            "['L', 'A', 'M', 'n', ' ', 'N', 'm', 'j', 'F', 't', 'Y', 'Q', 'K', 'D', 'D', 'v', 'i'] 0\n",
            "Genetic Algorithm\n",
            "['B', 'u', 'm', 'N', 'h', 'g', 'I', 'r', 'V', ' ', 's', 'V', 'J', 'u', 'M', 'Q', 'I'] 0\n",
            "Genetic Algorithm\n",
            "['T', 's', 'S', 'Z', 'I', 'p', 'e', 'I', 'K', ' ', 'j', 'Q', 'h', 'c', 'H', 'M', 'g'] 0\n",
            "Genetic Algorithm\n",
            "['R', 'K', 'd', 'o', 'D', 'L', 'l', 'X', 'I', 'r', 'Y', 'f', 'H', 'I', 'l', 'o', 'X'] 0\n",
            "Genetic Algorithm\n",
            "['E', 'm', 'c', 'E', ' ', 'k', 's', 'j', 'y', 'v', 'y', 'a', 'Q', 'V', 'r', 'O', 'z'] 0\n",
            "Genetic Algorithm\n",
            "['S', 's', 'g', 'x', 'o', 'd', 'm', 'k', 'u', 'l', 'B', 'j', 'x', 's', 'C', 'P', 'n'] 1\n",
            "Genetic Algorithm\n",
            "['I', 'I', 'Q', 'E', 'v', 'z', 'v', 'K', 'a', 'b', 'm', 'O', 'R', 'W', 'G', 'b', 'O'] 0\n",
            "Genetic Algorithm\n",
            "['O', 'l', 'o', 'Y', 'M', 'W', 'I', 'V', 'P', 'C', 'M', 'o', 'p', 'i', 'B', 'N', 'M'] 2\n",
            "Genetic Algorithm\n",
            "['J', 'Z', 'v', 'U', 'e', 'o', 'p', 'I', 'X', 'D', 'r', 'Z', 'N', 'W', 'x', 'o', 'd'] 0\n",
            "Genetic Algorithm\n",
            "['T', 'E', 'O', 'C', 'D', 'n', 'K', 'c', ' ', 'd', 'M', 'h', 'q', 'w', 'S', 'w', 'k'] 0\n",
            "Genetic Algorithm\n",
            "['m', 'o', 'D', 'N', 'g', 'q', 'c', 'l', 'E', 'v', 'Q', 'W', 'z', 't', 's', 'l', 'j'] 1\n",
            "Genetic Algorithm\n",
            "['J', 'F', 'i', 'v', 'g', 'v', ' ', 'C', 'G', 'x', 'J', 'H', 'q', 'i', 'x', 'Z', 'O'] 1\n",
            "Genetic Algorithm\n",
            "['n', 'r', 'R', 'I', 'i', 'v', 'c', 'y', 'p', 'n', 'D', 'H', 'R', 'R', 'v', 'L', 'b'] 1\n",
            "Genetic Algorithm\n",
            "['M', 'Q', 't', 'V', 'g', 't', 'k', 'f', 'N', 'v', 'g', 'z', 'T', 'M', 'i', 'x', 'X'] 1\n",
            "Genetic Algorithm\n",
            "['k', 'c', 'a', 'C', 'g', 'O', 'a', 'z', 'q', 'P', 's', 'Y', 'K', 'c', 'h', 'd', 'a'] 0\n",
            "Genetic Algorithm\n",
            "['e', 'o', 'K', 'L', 'w', 'x', 'X', 'G', 'C', 's', 'c', 'l', 'e', 'n', 'X', 'y', ' '] 0\n",
            "Genetic Algorithm\n",
            "['f', 'f', 'o', 'r', 'O', 'Y', 'D', 'W', 'E', 'g', 'G', 'u', 'Y', 'M', 'p', 'A', 'o'] 0\n",
            "Genetic Algorithm\n",
            "['g', 'V', 'b', 'W', 'W', 'T', 'j', 'J', 'l', 'R', 'l', 'n', 'T', 'x', 'I', 'F', 'c'] 0\n",
            "Genetic Algorithm\n",
            "['c', 'i', 'X', 'r', 'p', 'I', 'a', 'A', 'Z', 'u', 'q', 'A', 'i', 'K', 'v', 'd', 'b'] 0\n",
            "Genetic Algorithm\n",
            "['z', 'N', 'w', 'z', 'D', ' ', 'G', 'j', 'c', 'O', 'W', 'I', 'A', 'y', 'a', 'w', 'S'] 0\n",
            "Genetic Algorithm\n",
            "['T', 'q', 'X', 'V', 'V', 'N', 'E', 'c', ' ', 'q', 'E', 'z', 'Z', 'v', 'c', 'C', 'S'] 0\n",
            "Genetic Algorithm\n",
            "['K', 'a', 'S', 'L', 'V', 'x', 'q', 'x', 'z', 'K', 'j', 'w', 'X', 'O', 'b', 'Z', 'Q'] 0\n",
            "Genetic Algorithm\n",
            "['t', 'z', 'e', 'P', 'b', 'J', 'o', 'D', 't', 'Q', 'Z', 'C', 'E', 'p', 'R', 'j', 'd'] 0\n",
            "Genetic Algorithm\n",
            "['H', 'v', 'W', 'Q', 'h', 'b', 'X', 'C', 'C', 'W', 'I', 'l', 'p', 'I', 'M', 's', 'M'] 0\n",
            "Genetic Algorithm\n",
            "['s', 'O', 'x', 'R', 'I', 'g', 'h', 'C', 'r', 'F', 'l', 'T', ' ', 'S', 'O', 'X', 'O'] 0\n",
            "Genetic Algorithm\n",
            "['i', 'X', 'k', 'g', 'p', 'J', 'I', 'Q', 'i', 'A', 'Q', 'b', 'p', 'J', 'j', 'R', 'b'] 0\n",
            "Genetic Algorithm\n",
            "['F', 'J', 'M', 'l', 'u', 'b', 'q', 'e', 'C', 'd', 'S', ' ', 'K', 'A', 'C', 'g', 'g'] 0\n",
            "Genetic Algorithm\n",
            "['s', 'n', 'z', 'f', 'Y', 't', 'D', 'M', 'K', 'E', 'Q', 'j', 'm', 'L', 'G', 'L', 'H'] 0\n",
            "Genetic Algorithm\n",
            "['o', 'C', 'l', 'W', 'D', 'p', 'b', 'V', 'C', 'm', 'o', 'w', 'S', 'Y', 'M', 'n', 'N'] 0\n",
            "Genetic Algorithm\n",
            "['i', 'p', 'a', 'l', 'z', 'j', 'h', 'x', 'l', ' ', 'C', 'Y', 'W', 'L', 'n', 'j', 'X'] 0\n",
            "Genetic Algorithm\n",
            "['O', 'E', 'E', 'A', 'I', 'C', 'x', 'w', 'W', 'r', 'z', 's', 'D', 'f', 'l', 'B', 'c'] 0\n",
            "Genetic Algorithm\n",
            "['w', 'D', 'b', 'V', 'C', 'Z', 'V', 'X', 'l', 'q', 'o', 'U', 'n', 'w', 'N', 'V', 'x'] 0\n",
            "Genetic Algorithm\n",
            "['l', 'E', 'W', 'm', 'Q', 'b', 'O', 'x', 'C', 'K', 'q', 'M', 'K', 'D', 'I', 'e', 'q'] 0\n",
            "Genetic Algorithm\n",
            "['y', ' ', ' ', 'A', 'o', 'g', 'J', 'K', 'd', 'I', 'a', 'X', ' ', 'x', 'g', 'g', 'R'] 0\n",
            "Genetic Algorithm\n",
            "['E', 'B', 'R', 'q', 'c', 'm', 'r', 'W', 'g', 'U', 't', 'e', 'h', 'Y', 'L', 'D', 'I'] 0\n",
            "Genetic Algorithm\n",
            "['b', 'D', 'Z', 'J', 'y', 'R', 'H', 'Q', 'S', 'Q', 'j', 'T', 'A', 'X', 'r', 'L', 'l'] 0\n",
            "Genetic Algorithm\n",
            "['B', 'T', 'u', 'D', 'i', 'm', 'p', 'j', 'S', 'C', 'H', 'A', 'e', 'e', 'f', 'O', 'J'] 0\n",
            "Genetic Algorithm\n",
            "['y', 'K', 'X', 'Y', 'A', 'w', 'M', 'D', 'r', 'k', 'd', 'I', 'P', 'O', 'O', 'g', 'P'] 0\n",
            "Genetic Algorithm\n",
            "['k', 'I', 'X', 'a', 'y', 'D', 'N', 'O', 'k', 'o', 'h', 'A', 'B', 'E', 's', 'k', 'I'] 0\n",
            "Genetic Algorithm\n",
            "['n', 'o', 'T', ' ', 'u', 'A', 'h', 'l', 'd', 'S', 'x', 't', 'h', 'S', 'o', 'T', 'N'] 0\n",
            "Genetic Algorithm\n",
            "['e', 'Y', 'c', 'Q', ' ', 'P', 'B', 'C', 'R', 'E', 'y', 'M', 'w', 'X', 'h', 'B', 'X'] 0\n",
            "Genetic Algorithm\n",
            "['L', 'b', 'w', 'Q', 'g', 'u', 'y', 'C', 'y', 'k', 'g', 'm', 'K', 'v', 'J', 'R', 's'] 1\n",
            "Genetic Algorithm\n",
            "['v', 'e', 'Z', 'X', 'M', 'K', 'A', 'D', 'k', 'k', 'B', 'h', 'U', ' ', 'K', 'Z', 'd'] 1\n",
            "Genetic Algorithm\n",
            "['M', 'Y', 'Z', 'X', 's', 'Q', 'D', 'O', 'X', 'd', 'A', 'y', 'J', 'P', 'n', 'j', 'j'] 0\n",
            "Genetic Algorithm\n",
            "['t', 'b', 'Y', 'z', 'O', 'O', 'q', 'B', 'j', 'F', 'O', 'Y', 'm', 'L', 'P', 'N', 'Q'] 0\n",
            "Genetic Algorithm\n",
            "['F', 'e', 'i', 'x', 'p', 'p', 'H', 'b', 'f', 'o', 'p', 'Q', 'e', 'e', 'e', 'D', 'm'] 2\n",
            "Genetic Algorithm\n",
            "['y', 'P', 'S', 'D', 'N', 'N', 'K', 'C', 'F', 'a', 'u', 'u', 'K', 'G', 't', 'N', 'A'] 1\n",
            "Genetic Algorithm\n",
            "['T', 't', 'U', 'D', 'L', 'L', 'R', 'a', 'a', 'O', ' ', 'b', 'P', ' ', 'W', 'Z', 'r'] 0\n",
            "Genetic Algorithm\n",
            "['X', 'u', 'G', 'G', 'R', 'T', 'c', 'm', 'f', 'n', 'C', 'j', 't', 'l', 'M', 'E', 'e'] 1\n",
            "Genetic Algorithm\n",
            "['Q', 's', 'G', 'F', 'P', 'm', 'g', 'V', 'w', 'Z', 'j', 'e', 'F', 'L', 'g', 'E', 'y'] 0\n",
            "Genetic Algorithm\n",
            "['j', 'D', 'Q', 'u', 'F', 'U', 'I', 'X', 'N', 'N', 'w', 'u', 'q', 'D', 'l', 'K', 'R'] 0\n",
            "Genetic Algorithm\n",
            "['Z', 'I', 'r', 'e', 'L', 'r', 'N', 'C', 'x', 'a', 'H', 'y', 'f', 'z', 'u', 'm', 'i'] 1\n",
            "Genetic Algorithm\n",
            "['E', ' ', 'D', 'b', ' ', 'u', 'e', 'r', 'm', 'K', 'i', 'u', 'C', 'p', 'x', 'F', ' '] 0\n",
            "Genetic Algorithm\n",
            "['X', 'B', 'K', 'I', 'c', 'c', 'M', 'X', 'O', 'O', 'A', 'l', 'F', 'F', 'M', 'g', 'm'] 1\n",
            "Genetic Algorithm\n",
            "['z', 'k', ' ', 'J', 'v', 'i', 'z', 'T', 'p', 'i', 'w', 'z', 'U', 'Y', 'Y', 'F', 'b'] 1\n",
            "Genetic Algorithm\n",
            "['P', 'I', 'W', 'v', 'n', 'D', 'Q', 'X', 'x', 'j', 'Y', 'w', 'F', 'M', 'k', 'w', 'L'] 0\n",
            "Genetic Algorithm\n",
            "['T', 's', 'd', 'm', 'i', 'd', 't', 'A', 'K', 't', 'g', 'C', 'e', 'S', 'E', 'N', 'U'] 1\n",
            "Genetic Algorithm\n",
            "['y', 'F', 'F', 'c', 'f', 'd', 'r', 'E', 'c', 'O', 'V', 'X', 'A', 'R', 'p', 'W', 'r'] 0\n",
            "Genetic Algorithm\n",
            "[' ', 'f', 'O', 'Y', 'a', 'p', 'f', 'c', 'G', 'd', 'u', 'F', 'd', 'l', 'Q', 'g', 'v'] 0\n",
            "Genetic Algorithm\n",
            "['v', 'J', 't', 'I', 'j', 'l', 'H', 'r', 'a', 'Z', 'S', 'P', 'h', 'u', 'W', 'C', 'u'] 0\n",
            "Genetic Algorithm\n",
            "['z', 'O', 'u', 'C', 'v', 'm', 'S', 'R', 'A', 'H', 'h', 'V', 'F', 'm', 'A', 'Q', 'F'] 1\n",
            "Genetic Algorithm\n",
            "['i', 'Z', 'g', 'U', 'q', 'e', 'q', 'G', 'F', 'o', 'R', 'U', 'v', 'H', 'y', 's', 'e'] 0\n",
            "Genetic Algorithm\n",
            "['r', 'y', 's', 'D', 'P', ' ', 'f', 'C', 'm', 'r', 'W', 'p', 'T', 'E', 'R', 'l', 'b'] 0\n",
            "Genetic Algorithm\n",
            "['q', 'y', 'O', 'V', 'i', 'r', 'I', 'i', 'q', 'e', ' ', 'O', 'K', 'e', 'T', 'S', 'I'] 0\n",
            "Genetic Algorithm\n",
            "['F', 'j', 'S', 'T', 'd', 'z', 'a', 'D', 'o', 'A', 'u', 't', 'M', 'z', 'e', 'r', 'P'] 0\n",
            "Genetic Algorithm\n",
            "['J', 'N', 'L', 'H', 'R', 'b', 's', 'S', 'j', 'q', 'c', 'J', 'B', 'W', 'B', 'V', 'm'] 1\n",
            "Genetic Algorithm\n",
            "['E', 'o', 'w', 'i', 'P', 'b', 'V', 'f', 'p', 'z', 'x', 'z', 'A', 'k', 'm', 'g', 'z'] 0\n",
            "Genetic Algorithm\n",
            "['j', 'M', 'u', 'k', 'U', 'b', 'f', 'A', 'f', 'w', 'x', 'Z', 'X', 'M', 'a', 'W', 'a'] 0\n",
            "Genetic Algorithm\n",
            "['m', 'n', 'k', 'p', 'a', 'j', 'F', 'C', 'n', 'P', 'V', 'q', ' ', 'd', ' ', 'H', 'Y'] 0\n",
            "Genetic Algorithm\n",
            "['r', 'N', 'v', 'N', 'U', 'N', 'b', 'c', 'B', 'U', 'I', 'e', 'P', 'g', ' ', 'L', 'K'] 0\n",
            "Genetic Algorithm\n",
            "['V', 'C', 'j', 'y', 'C', 'D', 'R', 'J', 'X', 'X', 'C', 'p', 'B', 'v', 'r', 'L', 'X'] 0\n",
            "Genetic Algorithm\n",
            "['b', 'K', 'K', 'k', 'F', 'K', 't', 'F', 'X', 'f', 'S', 'n', 'e', 'm', 'k', 'o', 'L'] 0\n",
            "Genetic Algorithm\n",
            "['s', 't', 'y', 'F', 'O', 'a', 'E', 'S', 'A', 'j', 'D', 'J', 'f', 's', 'P', 'j', 'L'] 1\n",
            "Genetic Algorithm\n",
            "['p', 't', 'z', 'X', 'K', 'E', ' ', 'p', 'z', 'i', 'w', 'w', 'r', ' ', 'c', 'J', 'W'] 1\n"
          ]
        }
      ]
    },
    {
      "cell_type": "markdown",
      "metadata": {
        "id": "Ovj-5XyG3lZ6"
      },
      "source": [
        "We will now define how the individuals in the population should change as the number of generations increases. First, the `select` function will be run on the population to select *two* individuals with high fitness values. These will be the parents which will then be recombined using the `recombine` function to generate the child."
      ]
    },
    {
      "cell_type": "code",
      "metadata": {
        "id": "gd01PPse3lZ6"
      },
      "source": [
        "parents = select(2, population, fitness_fn) "
      ],
      "execution_count": null,
      "outputs": []
    },
    {
      "cell_type": "code",
      "metadata": {
        "colab": {
          "base_uri": "https://localhost:8080/"
        },
        "id": "MqdrhmY93lZ6",
        "outputId": "9d074ea8-3953-4d5a-cfff-082c13610d79"
      },
      "source": [
        "for i in parents:\n",
        "    print (i,fitness_fn(i))"
      ],
      "execution_count": null,
      "outputs": [
        {
          "output_type": "stream",
          "name": "stdout",
          "text": [
            "['l', 'M', 'B', 'k', 'U', 'H', 'o', 'l', 'H', 'l', 'W', 'Y', 'M', 'A', 'e', 'F', 'E'] 1\n",
            "['J', 's', 'D', 'e', 'N', 'U', 'c', 'J', 'L', 'H', 'I', 'N', 'F', 'd', 'u', 'Z', 'Q'] 2\n"
          ]
        }
      ]
    },
    {
      "cell_type": "code",
      "metadata": {
        "id": "1vldzqq_3lZ7"
      },
      "source": [
        "# The recombine function takes two parents as arguments, so we need to unpack the previous variable\n",
        "child = recombine(*parents)"
      ],
      "execution_count": null,
      "outputs": []
    },
    {
      "cell_type": "code",
      "metadata": {
        "colab": {
          "base_uri": "https://localhost:8080/"
        },
        "id": "UAxWrVWW3lZ7",
        "outputId": "37b9da17-6ff9-46ec-865a-be2c2a7274f0"
      },
      "source": [
        "print (child)\n",
        "print (fitness_fn(child))"
      ],
      "execution_count": null,
      "outputs": [
        {
          "output_type": "stream",
          "name": "stdout",
          "text": [
            "['l', 'M', 'B', 'k', 'U', 'U', 'c', 'J', 'L', 'H', 'I', 'N', 'F', 'd', 'u', 'Z', 'Q']\n",
            "1\n"
          ]
        }
      ]
    },
    {
      "cell_type": "markdown",
      "metadata": {
        "id": "Xym9baVK3lZ7"
      },
      "source": [
        "Next, we need to apply a mutation according to the mutation rate. We call the `mutate` function on the child with the gene pool and mutation rate as the additional arguments."
      ]
    },
    {
      "cell_type": "code",
      "metadata": {
        "colab": {
          "base_uri": "https://localhost:8080/"
        },
        "id": "T7s39Ldh3lZ7",
        "outputId": "ee640d58-a3a7-485d-9d0c-7612ef5b9fbe"
      },
      "source": [
        "print(child)\n",
        "print (fitness_fn(child))\n",
        "child = mutate(child, gene_pool, mutation_rate)\n",
        "print (child)\n",
        "print (fitness_fn(child))"
      ],
      "execution_count": null,
      "outputs": [
        {
          "output_type": "stream",
          "name": "stdout",
          "text": [
            "['l', 'M', 'B', 'k', 'U', 'U', 'c', 'J', 'L', 'H', 'I', 'N', 'F', 'd', 'u', 'Z', 'Q']\n",
            "1\n",
            "['l', 'M', 'B', 'k', 'U', 'U', 'c', 'J', 'L', 'H', 'I', 'N', 'F', 'z', 'u', 'Z', 'Q']\n",
            "1\n"
          ]
        }
      ]
    },
    {
      "cell_type": "markdown",
      "metadata": {
        "id": "TNMUIBgj3lZ7"
      },
      "source": [
        "The above lines can be condensed into\n",
        "\n",
        "`child = mutate(recombine(*select(2, population, fitness_fn)), gene_pool, mutation_rate)`\n",
        "\n",
        "And, we need to do this `for` every individual in the current population to generate the new population."
      ]
    },
    {
      "cell_type": "code",
      "metadata": {
        "colab": {
          "base_uri": "https://localhost:8080/"
        },
        "id": "BDkTgPxo3lZ8",
        "outputId": "5c37b3e3-1acb-4b27-9f8f-74e1d24ada18"
      },
      "source": [
        "population = [mutate(recombine(*select(2, population, fitness_fn)), gene_pool, mutation_rate) for i in range(len(population))]\n",
        "for i in population:\n",
        "    print (target)\n",
        "    print (i,fitness_fn(i))"
      ],
      "execution_count": null,
      "outputs": [
        {
          "output_type": "stream",
          "name": "stdout",
          "text": [
            "Genetic Algorithm\n",
            "['L', 'b', 'w', 'Q', 'g', 'u', 'y', 'C', 'y', 'k', 'g', 'y', 'f', 'z', 'u', 'm', 'i'] 1\n",
            "Genetic Algorithm\n",
            "['d', 'K', 'n', 'b', 'f', 'l', 'M', 'd', 'g', 'm', 'l', 'K', 'T', 'd', 'u', 'Z', 'Q'] 1\n",
            "Genetic Algorithm\n",
            "['J', 'F', 'i', 'v', 'g', 'v', ' ', 'C', 'G', 'x', 'l', 'K', 'T', 'i', 'Y', 's', 'r'] 1\n",
            "Genetic Algorithm\n",
            "['J', 'F', 'i', 'v', 'g', 'B', 'd', 'q', 'l', 'C', 'g', 's', 'P', 'q', 'U', 'j', 'f'] 1\n",
            "Genetic Algorithm\n",
            "['J', 's', 'D', 'e', 'N', 'U', 'c', 'J', 'L', 'H', 'I', 'N', 'F', 'd', 'u', 'F', 'E'] 2\n",
            "Genetic Algorithm\n",
            "['F', 'e', 'i', 'x', 'O', 'a', 'E', 'S', 'A', 'j', 'D', 'J', 'f', 's', 'P', 'j', 'N'] 2\n",
            "Genetic Algorithm\n",
            "['e', 'W', 'g', 'r', 'h', 'M', 'i', 'n', 'L', 'P', 'F', 'R', 'k', 'l', 'K', 'Z', 'd'] 0\n",
            "Genetic Algorithm\n",
            "['O', 'l', 'o', 'Y', 'M', 'h', 'D', 'H', 'I', 'i', 'j', 'x', 'p', 'o', 'U', 'S', 'm'] 1\n",
            "Genetic Algorithm\n",
            "['F', 'e', 'i', 'Y', 'M', 'W', 'I', 'V', 'P', 'C', 'M', 'o', 'p', 'i', 'B', 'N', 'M'] 3\n",
            "Genetic Algorithm\n",
            "['z', 'O', 'u', 'C', 'v', 'm', 'S', 'R', 'A', 'H', 'h', 'V', 'F', 'm', 'A', 'Q', 'F'] 1\n",
            "Genetic Algorithm\n",
            "['s', 'C', 'v', 'K', 'g', 'l', 'M', 'd', 'g', 'm', 'l', 'K', 'T', 'i', 'Y', 's', 'r'] 1\n",
            "Genetic Algorithm\n",
            "['J', 'N', 'L', 'H', 'R', 'W', 'I', 'V', 'P', 'C', 'M', 'o', 'p', 'i', 'B', 'N', 'M'] 2\n",
            "Genetic Algorithm\n",
            "['X', 'K', 'n', 'b', 'f', 'l', 'M', 'd', 'g', 'm', 'l', 'K', 'T', 'i', 'Y', 's', 'r'] 2\n",
            "Genetic Algorithm\n",
            "['z', 'O', 'u', 'C', 'v', 'm', 'S', 'd', 'g', 'm', 'l', 'K', 'T', 'i', 'Y', 's', 'r'] 1\n",
            "Genetic Algorithm\n",
            "['z', 't', 'B', 'S', 's', 'e', 'l', 'm', 'p', 'n', 'D', 'H', 'R', 'R', 'v', 'L', 'b'] 0\n",
            "Genetic Algorithm\n",
            "['O', 'l', 'o', 'Y', 'M', 'W', 'I', 'V', 'P', 'C', 'R', 'h', 'Y', 'i', 'c', 'X', 'L'] 1\n",
            "Genetic Algorithm\n",
            "['z', 't', 'B', 'S', 's', 'e', 'l', 'm', 'V', 'X', 'R', 'h', 'Y', 'i', 'e', 'F', 'E'] 1\n",
            "Genetic Algorithm\n",
            "['T', 's', 'd', 'm', 'i', 'd', 't', 'A', 'K', 't', 'g', 'C', 'e', 'S', 'E', 'N', 'U'] 1\n",
            "Genetic Algorithm\n",
            "['n', 'r', 'R', 'I', 'i', 'v', 'c', 'y', 'p', 'n', 'A', 'l', 'F', 'F', 'M', 'g', 'm'] 2\n",
            "Genetic Algorithm\n",
            "['n', 'r', 'R', 'I', 'i', 'v', 'c', 'y', 'p', 'n', 'D', 'H', 'R', 'R', 'v', 'b', 'F'] 1\n",
            "Genetic Algorithm\n",
            "['d', 'K', 'n', 'b', 'f', 'l', 'M', 'd', 'g', 'm', 'l', 'K', 'T', 'q', 'U', 'j', 'f'] 1\n",
            "Genetic Algorithm\n",
            "['S', 's', 'g', 'x', 'o', 'd', 'm', 'k', 'u', 'l', 'B', 'j', 'x', 'l', 'M', 'E', 'e'] 1\n",
            "Genetic Algorithm\n",
            "['F', 'e', 'i', 'x', 'p', 'p', 'H', 'b', 'f', 'o', 'p', 'o', 'p', 'i', 'B', 'N', 'M'] 3\n",
            "Genetic Algorithm\n",
            "['T', 's', 'd', 'm', 'i', 'd', 'H', 'b', 'f', 'o', 'p', 'Q', 'e', 'e', 'e', 'D', 'm'] 1\n",
            "Genetic Algorithm\n",
            "['F', 'c', 'C', 'm', 'L', 'B', 'd', 'q', 'l', 'C', 'j', 'x', 'p', 'o', 'U', 'S', 'm'] 1\n",
            "Genetic Algorithm\n",
            "['z', 't', 'B', 'S', 's', 'e', 'l', 'm', 'V', 'X', 'R', 'h', 'Y', 'i', 'c', 'X', 'L'] 1\n",
            "Genetic Algorithm\n",
            "['B', 'e', 'Q', 'L', 'K', 'd', 'v', 'C', 'g', 'W', 'b', 'q', 'z', 's', 'X', 'b', 'F'] 1\n",
            "Genetic Algorithm\n",
            "['L', 'b', 'w', 'Q', 'g', 'u', 'y', 'V', 'P', 'C', 'M', 'o', 'p', 'i', 'B', 'N', 'M'] 2\n",
            "Genetic Algorithm\n",
            "['O', 'l', 'o', 'Y', 'M', 'W', 'I', 'V', 'P', 'C', 'M', 'o', 'p', 'i', 'B', 'P', 'n'] 2\n",
            "Genetic Algorithm\n",
            "['d', 'K', 'n', 'b', 'f', 'l', 'M', 'd', 'g', 'm', 'l', 'K', 'T', 'i', 'B', 'N', 'M'] 2\n",
            "Genetic Algorithm\n",
            "['l', 'M', 'i', 'v', 'g', 'v', ' ', 'C', 'G', 'x', 'J', 'H', 'q', 'i', 'x', 'Z', 'O'] 1\n",
            "Genetic Algorithm\n",
            "['X', 'u', 'G', 'X', 'K', 'E', ' ', 'p', 'z', 'i', 'w', 'w', 'r', ' ', 'c', 'J', 'W'] 1\n",
            "Genetic Algorithm\n",
            "['d', 'K', 'n', 'b', 'p', 'p', 'H', 'b', 'f', 'o', 'p', 'Q', 'e', 'e', 'e', 'D', 'm'] 2\n",
            "Genetic Algorithm\n",
            "['O', 'c', 'C', 'm', 'L', 'B', 'd', 'q', 'l', 'C', 'g', 's', 'P', 'q', 'U', 'j', 'f'] 1\n",
            "Genetic Algorithm\n",
            "['s', 'C', 'v', 'K', 'g', 'c', 'M', 'X', 'O', 'O', 'A', 'l', 'F', 'F', 'M', 'g', 'm'] 1\n",
            "Genetic Algorithm\n",
            "['L', 'b', 'w', 'Q', 'g', 'h', 'D', 'H', 'I', 'i', 'j', 'x', 'p', 'o', 'U', 'S', 'm'] 1\n",
            "Genetic Algorithm\n",
            "['v', 'e', 'Z', 'X', 'M', 'K', 'A', 'D', 'k', 'k', 'B', 'h', 'e', 'e', 'e', 'D', 'm'] 2\n",
            "Genetic Algorithm\n",
            "['T', 's', 'd', 'm', 'i', 'd', 't', 'A', 'L', 'P', 'F', 'R', 'k', 'l', 't', 'S', 'Z'] 1\n",
            "Genetic Algorithm\n",
            "['z', 't', 'B', 'S', 's', 'e', 'l', 'm', 'V', 'X', 'R', 'h', 'Y', 'i', 'Y', 's', 'r'] 1\n",
            "Genetic Algorithm\n",
            "['e', 'o', 'D', 'N', 'g', 'q', 'c', 'l', 'E', 'v', 'Q', 'W', 'z', 't', 's', 'l', 'j'] 1\n",
            "Genetic Algorithm\n",
            "['v', 'e', 'Z', 'X', 'M', 'K', 'A', 'D', 'L', 'H', 'I', 'N', 'F', 'd', 'u', 'Z', 'Q'] 1\n",
            "Genetic Algorithm\n",
            "['b', 'e', 'Q', 'L', 'K', 'd', 'v', 'C', 'O', 'O', 'A', 'l', 'F', 'F', 'M', 'g', 'm'] 2\n",
            "Genetic Algorithm\n",
            "['d', 'K', 'n', 'b', 'f', 'v', 'c', 'y', 'p', 'n', 'D', 'H', 'R', 'R', 'v', 'L', 'b'] 2\n",
            "Genetic Algorithm\n",
            "['d', 'K', 'n', 'b', 'f', 'l', 'M', 'd', 'g', 'm', 'l', 'K', 'r', ' ', 'c', 'J', 'W'] 2\n",
            "Genetic Algorithm\n",
            "['n', 'e', 'i', 'x', 'p', 'p', 'H', 'b', 'f', 'o', 'p', 'Q', 'e', 'e', 'e', 'D', 'm'] 2\n",
            "Genetic Algorithm\n",
            "['O', 'l', 'o', 'Y', 'M', 'W', 'I', 'V', 'P', 'C', 'M', 'o', 'p', 'i', 'E', 'N', 'U'] 2\n",
            "Genetic Algorithm\n",
            "['B', 'w', 's', 'V', 'F', 'h', 'H', 'b', 'f', 'o', 'p', 'Q', 'e', 'e', 'e', 'D', 'm'] 1\n",
            "Genetic Algorithm\n",
            "['J', 'N', 'L', 'H', 'R', 'b', 's', 'S', 'j', 'q', 'l', 'K', 'T', 'i', 'Y', 's', 'r'] 1\n",
            "Genetic Algorithm\n",
            "['e', 'W', 'D', 'N', 'g', 'q', 'c', 'l', 'E', 'v', 'Q', 'W', 'z', 't', 's', 'l', 'j'] 1\n",
            "Genetic Algorithm\n",
            "['M', 'Q', 't', 'V', 'g', 't', 'k', 'f', 'N', 'a', 'Q', 'F', 'W', 'e', 'g', 'h', 'p'] 1\n",
            "Genetic Algorithm\n",
            "['n', 'r', 'R', 'I', 'i', 'v', 'c', 'y', 'k', 'k', 'B', 'h', 'U', ' ', 'K', 'Z', 'd'] 1\n",
            "Genetic Algorithm\n",
            "['B', 'w', 's', 'V', 'F', 'h', 's', 'S', 'j', 'q', 'c', 'J', 'B', 'W', 'B', 'V', 'm'] 1\n",
            "Genetic Algorithm\n",
            "['O', 'l', 'o', 'Y', 'M', 'W', 'I', 'V', 'P', 'C', 'M', 'o', 'p', 'i', 'B', 'N', 'r'] 2\n",
            "Genetic Algorithm\n",
            "['S', 's', 'g', 'x', 'o', 'd', 'm', 'k', 'u', 'l', 'B', 'j', 'x', 's', 'C', 'P', 'L'] 1\n",
            "Genetic Algorithm\n",
            "['X', 'B', 'K', 'I', 'c', 'c', 'M', 'X', 'O', 'O', 'A', 'l', 'F', 'F', 'M', 'g', 'm'] 1\n",
            "Genetic Algorithm\n",
            "['J', 'I', 'r', 'e', 'L', 'r', 'N', 'C', 'x', 'a', 'H', 'y', 'f', 'z', 'u', 'm', 'i'] 1\n",
            "Genetic Algorithm\n",
            "['F', 'c', 'C', 'm', 'L', 'B', 'd', 'q', 'l', 'C', 'H', 'y', 'f', 'z', 'u', 'm', 'i'] 0\n",
            "Genetic Algorithm\n",
            "['S', 's', 'g', 'x', 'v', 'i', 'z', 'T', 'p', 'i', 'w', 'z', 'U', 'Y', 'Y', 'F', 'b'] 1\n",
            "Genetic Algorithm\n",
            "['s', 'C', 'v', 'K', 'g', 'I', ' ', 'p', 'z', 'i', 'w', 'w', 'r', ' ', 'c', 'J', 'W'] 1\n",
            "Genetic Algorithm\n",
            "['J', 'M', 'B', 'k', 'U', 'H', 'o', 'l', 'H', 'l', 'W', 'Y', 'M', 'A', 'e', 'F', 'E'] 1\n",
            "Genetic Algorithm\n",
            "['F', 'c', 'C', 'm', 'L', 'B', 'd', 'q', 'l', 'F', 'g', 's', 'P', 'q', 'U', 'X', 'L'] 1\n",
            "Genetic Algorithm\n",
            "['d', 'K', 'Q', 'L', 'a', 'd', 'v', 'C', 'g', 'W', 'b', 'q', 'z', 's', 'X', 'b', 'F'] 0\n",
            "Genetic Algorithm\n",
            "['S', 's', ' ', 'J', 'v', 'i', 'z', 'T', 'p', 'i', 'w', 'z', 'U', 'Y', 'Y', 'F', 'b'] 1\n",
            "Genetic Algorithm\n",
            "['O', 'l', 'o', 'Y', 'M', 'W', 'I', 'V', 'P', 'C', 'I', 'N', 'F', 'd', 'u', 'Z', 'Q'] 0\n",
            "Genetic Algorithm\n",
            "['d', 'K', 'n', 'b', 'f', 'l', 'M', 'X', 'O', 'O', 'A', 'l', 'F', 'F', 'M', 'g', 'm'] 2\n",
            "Genetic Algorithm\n",
            "['v', 'e', 'Z', 'X', 'M', 'K', 'A', 'D', 'x', 'k', 'B', 'y', 'f', 'z', 'u', 'm', 'i'] 1\n",
            "Genetic Algorithm\n",
            "['M', 'Q', 't', 'V', 'g', 't', 'k', 'f', 'N', 'v', 'g', 'z', 'T', 'M', 'M', 'E', 'e'] 1\n",
            "Genetic Algorithm\n",
            "['S', 'k', ' ', 'J', 'v', 'i', 'z', 'T', 'p', 'i', 'w', 'z', 'U', 'Y', 'Y', 'F', 'b'] 1\n",
            "Genetic Algorithm\n",
            "['n', 'r', 'R', 'I', 'i', 'v', 'c', 'y', 'p', 'n', 'D', 'H', 'R', 'R', 'v', 'L', 'F'] 1\n",
            "Genetic Algorithm\n",
            "['F', 'c', 'C', 'm', 'L', 'B', 'd', 'q', 'g', 'W', 'b', 'q', 'z', 's', 'X', 'b', 'F'] 0\n",
            "Genetic Algorithm\n",
            "['F', 'e', 'i', 'I', 'c', 'c', 'M', 'X', 'O', 'O', 'A', 'l', 'F', 'F', 'M', 'g', 'm'] 2\n",
            "Genetic Algorithm\n",
            "['T', 's', 'd', 'm', 'M', 'W', 'I', 'V', 'P', 'C', 'M', 'o', 'p', 'i', 'B', 'N', 'M'] 2\n",
            "Genetic Algorithm\n",
            "['n', 'r', 'R', 'I', 'i', 'v', 'c', 'y', 'p', 'H', 'h', 'V', 'F', 'm', 'A', 'Q', 'F'] 1\n",
            "Genetic Algorithm\n",
            "['J', 'r', 'R', 'I', 'i', 'v', 'c', 'y', 'p', 'n', 'D', 'H', 'R', 'R', 'v', 'L', 'b'] 1\n",
            "Genetic Algorithm\n",
            "['d', 's', 'D', 'e', 'N', 'U', 'c', 'J', 'L', 'H', 'I', 'N', 'F', 'd', 'u', 'Z', 'Q'] 2\n",
            "Genetic Algorithm\n",
            "['d', 'K', 'n', 'b', 'f', 't', 'k', 'f', 'N', 'v', 'g', 'z', 'T', 'M', 'i', 'x', 'X'] 2\n",
            "Genetic Algorithm\n",
            "['M', 'Q', 't', 'V', 'g', 't', 'k', 'f', 'N', 'v', 'g', 'z', 'T', 'M', 'i', 'x', 'X'] 1\n",
            "Genetic Algorithm\n",
            "['J', 'N', 'L', 'H', 'N', 'N', 'K', 'C', 'F', 'a', 'u', 'u', 'K', 'G', 't', 'N', 'A'] 1\n",
            "Genetic Algorithm\n",
            "['X', 'u', 'G', 'G', 'R', 'T', 'c', 'm', 'f', 'n', 'C', 'u', 'K', 'G', 't', 'N', 'A'] 2\n",
            "Genetic Algorithm\n",
            "['n', 'r', 'R', 'I', 'i', 'v', 'c', 'C', 'g', 'W', 'b', 'q', 'z', 's', 'X', 'b', 'F'] 1\n",
            "Genetic Algorithm\n",
            "['n', 'r', 'R', 'I', 'i', 'U', 'c', 'J', 'L', 'H', 'I', 'N', 'F', 'd', 'u', 'Z', 'Q'] 1\n",
            "Genetic Algorithm\n",
            "['B', 'M', 'B', 'k', 'U', 'H', 'o', 'l', 'H', 'l', 'W', 'Y', 'M', 'A', 'e', 'F', 'E'] 1\n",
            "Genetic Algorithm\n",
            "['d', 'K', 'n', 'b', 'f', 'l', 'M', 'd', 'g', 'm', 'l', 'K', 'T', 'i', 'Y', 'F', 'E'] 2\n",
            "Genetic Algorithm\n",
            "['T', 's', 'd', 'm', 'i', 'U', 't', 'A', 'K', 't', 'g', 'J', 'f', 's', 'P', 'j', 'L'] 1\n",
            "Genetic Algorithm\n",
            "['z', 'O', 'u', 's', 'v', 'm', 'S', 'C', 'g', 'W', 'b', 'q', 'z', 's', 'X', 'b', 'F'] 0\n",
            "Genetic Algorithm\n",
            "['M', 'Q', 't', 'V', 'g', 't', 'k', 'l', 'H', 'l', 'W', 'Y', 'M', 'A', 'e', 'F', 'E'] 1\n",
            "Genetic Algorithm\n",
            "['L', 'b', 'w', 'Q', 'g', 'u', 'y', 'C', 'y', 'k', 'g', 'm', 'K', 'v', 'J', 'x', 'X'] 1\n",
            "Genetic Algorithm\n",
            "['e', 'W', 'g', 'r', 'h', 'M', 'i', 'n', 'L', 'P', 'F', 'R', 'k', 'l', 't', 'N', 'M'] 1\n",
            "Genetic Algorithm\n",
            "['v', 'e', 'Z', 'X', 'M', 'K', 'A', 'D', 'k', 'k', 'B', 'h', 'U', ' ', 'c', 'J', 'W'] 1\n",
            "Genetic Algorithm\n",
            "['y', 'P', 'S', 'D', 'N', 'd', 't', 'A', 'K', 't', 'g', 'C', 'e', 'S', 'E', 'N', 'U'] 1\n",
            "Genetic Algorithm\n",
            "['s', 't', 'i', 'v', 'g', 'v', ' ', 'C', 'G', 'x', 'J', 'H', 'q', 'i', 'x', 'Z', 'O'] 1\n",
            "Genetic Algorithm\n",
            "['O', 'l', 'o', 'Y', 'M', 'W', 'I', 'V', 'P', 'C', 'M', 'o', 'p', 'i', 'B', 'N', 'M'] 2\n",
            "Genetic Algorithm\n",
            "['J', 'F', 'i', 'v', 'g', 'v', ' ', 'C', 'G', 'x', 'J', 'H', 'q', 'i', 'x', 'Z', 'O'] 1\n",
            "Genetic Algorithm\n",
            "['Z', 'I', 'r', 'e', 'L', 'r', 'N', 'C', 'x', 'a', 'H', 'y', 'f', 's', 'X', 'b', 'F'] 1\n",
            "Genetic Algorithm\n",
            "['J', 'F', 'i', 'v', 'u', 'v', ' ', 'C', 'G', 'm', 'l', 'K', 'T', 'i', 'Y', 's', 'r'] 1\n",
            "Genetic Algorithm\n",
            "['L', 'C', 'v', 'K', 'g', 'I', 'C', 'G', 'I', 'a', 'Q', 'F', 'W', 'e', 'g', 'h', 'p'] 1\n",
            "Genetic Algorithm\n",
            "['X', 'B', 'K', 'I', 'c', 'c', 'M', 'X', 'O', 'O', 'A', 'l', 'F', 'Y', 'Y', 'F', 'b'] 0\n",
            "Genetic Algorithm\n",
            "['l', 'M', 'y', 'F', 'O', 'a', 'E', 'S', 'A', 'j', 'D', 'J', 'f', 's', 'P', 'j', 'L'] 1\n",
            "Genetic Algorithm\n",
            "['X', 'u', 'G', 'G', 'R', 'T', 'c', 'm', 'f', 'P', 'F', 'R', 'k', 'l', 't', 'S', 'Z'] 2\n",
            "Genetic Algorithm\n",
            "['F', 'e', 'i', 'x', 'p', 'p', 'H', 'b', 'f', 'o', 'p', 'Q', 'e', 'e', 'e', 'D', 'm'] 2\n"
          ]
        }
      ]
    },
    {
      "cell_type": "markdown",
      "metadata": {
        "id": "_EMZV4Y73lZ8"
      },
      "source": [
        "The individual with the highest fitness can then be found using the `max` function."
      ]
    },
    {
      "cell_type": "code",
      "metadata": {
        "id": "MVKRYC5h3lZ8"
      },
      "source": [
        "current_best = max(population, key=fitness_fn)"
      ],
      "execution_count": null,
      "outputs": []
    },
    {
      "cell_type": "markdown",
      "metadata": {
        "id": "HU6sPJJP3lZ8"
      },
      "source": [
        "Let's print this out"
      ]
    },
    {
      "cell_type": "code",
      "metadata": {
        "colab": {
          "base_uri": "https://localhost:8080/"
        },
        "id": "NxZDo6qP3lZ8",
        "outputId": "2f86beca-7960-4651-a99d-8c1bc8aa1a34"
      },
      "source": [
        "print(current_best, fitness_fn(current_best))"
      ],
      "execution_count": null,
      "outputs": [
        {
          "output_type": "stream",
          "name": "stdout",
          "text": [
            "['F', 'e', 'i', 'Y', 'M', 'W', 'I', 'V', 'P', 'C', 'M', 'o', 'p', 'i', 'B', 'N', 'M'] 3\n"
          ]
        }
      ]
    },
    {
      "cell_type": "markdown",
      "metadata": {
        "id": "0WQOYKx93lZ8"
      },
      "source": [
        "We see that this is a list of characters. This can be converted to a string using the join function"
      ]
    },
    {
      "cell_type": "code",
      "metadata": {
        "colab": {
          "base_uri": "https://localhost:8080/"
        },
        "id": "P2J270ZB3lZ8",
        "outputId": "e364578d-5422-4a98-a2ca-a3732db3eb58"
      },
      "source": [
        "current_best_string = ''.join(current_best)\n",
        "print(current_best_string)"
      ],
      "execution_count": null,
      "outputs": [
        {
          "output_type": "stream",
          "name": "stdout",
          "text": [
            "FeiYMWIVPCMopiBNM\n"
          ]
        }
      ]
    },
    {
      "cell_type": "markdown",
      "metadata": {
        "id": "3hrQHttz3lZ9"
      },
      "source": [
        "We now need to define the conditions to terminate the algorithm. This can happen in two ways\n",
        "1. Termination after a predefined number of generations\n",
        "2. Termination when the fitness of the best individual of the current generation reaches a predefined threshold value.\n",
        "\n",
        "We define these variables below"
      ]
    },
    {
      "cell_type": "code",
      "metadata": {
        "id": "es4214-C3lZ9"
      },
      "source": [
        "ngen = 500 # maximum number of generations\n",
        "# we set the threshold fitness equal to the length of the target phrase\n",
        "# i.e the algorithm only terminates whne it has got all the characters correct \n",
        "# or it has completed 'ngen' number of generations\n",
        "f_thres = len(target)"
      ],
      "execution_count": null,
      "outputs": []
    },
    {
      "cell_type": "markdown",
      "metadata": {
        "collapsed": true,
        "id": "CMK_2gaf3lZ9"
      },
      "source": [
        "To generate `ngen` number of generations, we run a `for` loop `ngen` number of times. After each generation, we calculate the fitness of the best individual of the generation and compare it to the value of `f_thres` using the `fitness_threshold` function. After every generation, we print out the best individual of the generation and the corresponding fitness value. Lets now write a function to do this."
      ]
    },
    {
      "cell_type": "code",
      "metadata": {
        "id": "k4tyBH0j3lZ9"
      },
      "source": [
        "def genetic_algorithm_stepwise(population, fitness_fn, gene_pool=[0, 1], f_thres=None, ngen=1200, pmut=0.1):\n",
        "    for generation in range(ngen):\n",
        "        population = [mutate(recombine(*select(2, population, fitness_fn)), gene_pool, pmut) for i in range(len(population))]\n",
        "        # stores the individual genome with the highest fitness in the current population\n",
        "        current_best = ''.join(max(population, key=fitness_fn))\n",
        "        print('Current best: {current_best}\\t\\tGeneration: {str(generation)}\\t\\tFitness: {fitness_fn(current_best)}\\r', end='')\n",
        "        \n",
        "        # compare the fitness of the current best individual to f_thres\n",
        "        fittest_individual = fitness_threshold(fitness_fn, f_thres, population)\n",
        "        \n",
        "        # if fitness is greater than or equal to f_thres, we terminate the algorithm\n",
        "        if fittest_individual:\n",
        "            return fittest_individual, generation\n",
        "    return max(population, key=fitness_fn) , generation       "
      ],
      "execution_count": null,
      "outputs": []
    },
    {
      "cell_type": "markdown",
      "metadata": {
        "id": "zDLPb0ih3lZ9"
      },
      "source": [
        "The function defined above is essentially the same as the one defined in `search.py` with the added functionality of printing out the data of each generation."
      ]
    },
    {
      "cell_type": "code",
      "metadata": {
        "colab": {
          "base_uri": "https://localhost:8080/",
          "height": 221
        },
        "id": "6tJZ5SGp3lZ9",
        "outputId": "15a721d4-a649-4048-b2b8-b0b1691e9eff"
      },
      "source": [
        "psource(genetic_algorithm)"
      ],
      "execution_count": null,
      "outputs": [
        {
          "output_type": "display_data",
          "data": {
            "text/html": [
              "<!DOCTYPE html PUBLIC \"-//W3C//DTD HTML 4.01//EN\"\n",
              "   \"http://www.w3.org/TR/html4/strict.dtd\">\n",
              "<!--\n",
              "generated by Pygments <https://pygments.org/>\n",
              "Copyright 2006-2019 by the Pygments team.\n",
              "Licensed under the BSD license, see LICENSE for details.\n",
              "-->\n",
              "<html>\n",
              "<head>\n",
              "  <title></title>\n",
              "  <meta http-equiv=\"content-type\" content=\"text/html; charset=None\">\n",
              "  <style type=\"text/css\">\n",
              "/*\n",
              "generated by Pygments <https://pygments.org/>\n",
              "Copyright 2006-2019 by the Pygments team.\n",
              "Licensed under the BSD license, see LICENSE for details.\n",
              "*/\n",
              "td.linenos { background-color: #f0f0f0; padding-right: 10px; }\n",
              "span.lineno { background-color: #f0f0f0; padding: 0 5px 0 5px; }\n",
              "pre { line-height: 125%; }\n",
              "body .hll { background-color: #ffffcc }\n",
              "body  { background: #f8f8f8; }\n",
              "body .c { color: #408080; font-style: italic } /* Comment */\n",
              "body .err { border: 1px solid #FF0000 } /* Error */\n",
              "body .k { color: #008000; font-weight: bold } /* Keyword */\n",
              "body .o { color: #666666 } /* Operator */\n",
              "body .ch { color: #408080; font-style: italic } /* Comment.Hashbang */\n",
              "body .cm { color: #408080; font-style: italic } /* Comment.Multiline */\n",
              "body .cp { color: #BC7A00 } /* Comment.Preproc */\n",
              "body .cpf { color: #408080; font-style: italic } /* Comment.PreprocFile */\n",
              "body .c1 { color: #408080; font-style: italic } /* Comment.Single */\n",
              "body .cs { color: #408080; font-style: italic } /* Comment.Special */\n",
              "body .gd { color: #A00000 } /* Generic.Deleted */\n",
              "body .ge { font-style: italic } /* Generic.Emph */\n",
              "body .gr { color: #FF0000 } /* Generic.Error */\n",
              "body .gh { color: #000080; font-weight: bold } /* Generic.Heading */\n",
              "body .gi { color: #00A000 } /* Generic.Inserted */\n",
              "body .go { color: #888888 } /* Generic.Output */\n",
              "body .gp { color: #000080; font-weight: bold } /* Generic.Prompt */\n",
              "body .gs { font-weight: bold } /* Generic.Strong */\n",
              "body .gu { color: #800080; font-weight: bold } /* Generic.Subheading */\n",
              "body .gt { color: #0044DD } /* Generic.Traceback */\n",
              "body .kc { color: #008000; font-weight: bold } /* Keyword.Constant */\n",
              "body .kd { color: #008000; font-weight: bold } /* Keyword.Declaration */\n",
              "body .kn { color: #008000; font-weight: bold } /* Keyword.Namespace */\n",
              "body .kp { color: #008000 } /* Keyword.Pseudo */\n",
              "body .kr { color: #008000; font-weight: bold } /* Keyword.Reserved */\n",
              "body .kt { color: #B00040 } /* Keyword.Type */\n",
              "body .m { color: #666666 } /* Literal.Number */\n",
              "body .s { color: #BA2121 } /* Literal.String */\n",
              "body .na { color: #7D9029 } /* Name.Attribute */\n",
              "body .nb { color: #008000 } /* Name.Builtin */\n",
              "body .nc { color: #0000FF; font-weight: bold } /* Name.Class */\n",
              "body .no { color: #880000 } /* Name.Constant */\n",
              "body .nd { color: #AA22FF } /* Name.Decorator */\n",
              "body .ni { color: #999999; font-weight: bold } /* Name.Entity */\n",
              "body .ne { color: #D2413A; font-weight: bold } /* Name.Exception */\n",
              "body .nf { color: #0000FF } /* Name.Function */\n",
              "body .nl { color: #A0A000 } /* Name.Label */\n",
              "body .nn { color: #0000FF; font-weight: bold } /* Name.Namespace */\n",
              "body .nt { color: #008000; font-weight: bold } /* Name.Tag */\n",
              "body .nv { color: #19177C } /* Name.Variable */\n",
              "body .ow { color: #AA22FF; font-weight: bold } /* Operator.Word */\n",
              "body .w { color: #bbbbbb } /* Text.Whitespace */\n",
              "body .mb { color: #666666 } /* Literal.Number.Bin */\n",
              "body .mf { color: #666666 } /* Literal.Number.Float */\n",
              "body .mh { color: #666666 } /* Literal.Number.Hex */\n",
              "body .mi { color: #666666 } /* Literal.Number.Integer */\n",
              "body .mo { color: #666666 } /* Literal.Number.Oct */\n",
              "body .sa { color: #BA2121 } /* Literal.String.Affix */\n",
              "body .sb { color: #BA2121 } /* Literal.String.Backtick */\n",
              "body .sc { color: #BA2121 } /* Literal.String.Char */\n",
              "body .dl { color: #BA2121 } /* Literal.String.Delimiter */\n",
              "body .sd { color: #BA2121; font-style: italic } /* Literal.String.Doc */\n",
              "body .s2 { color: #BA2121 } /* Literal.String.Double */\n",
              "body .se { color: #BB6622; font-weight: bold } /* Literal.String.Escape */\n",
              "body .sh { color: #BA2121 } /* Literal.String.Heredoc */\n",
              "body .si { color: #BB6688; font-weight: bold } /* Literal.String.Interpol */\n",
              "body .sx { color: #008000 } /* Literal.String.Other */\n",
              "body .sr { color: #BB6688 } /* Literal.String.Regex */\n",
              "body .s1 { color: #BA2121 } /* Literal.String.Single */\n",
              "body .ss { color: #19177C } /* Literal.String.Symbol */\n",
              "body .bp { color: #008000 } /* Name.Builtin.Pseudo */\n",
              "body .fm { color: #0000FF } /* Name.Function.Magic */\n",
              "body .vc { color: #19177C } /* Name.Variable.Class */\n",
              "body .vg { color: #19177C } /* Name.Variable.Global */\n",
              "body .vi { color: #19177C } /* Name.Variable.Instance */\n",
              "body .vm { color: #19177C } /* Name.Variable.Magic */\n",
              "body .il { color: #666666 } /* Literal.Number.Integer.Long */\n",
              "\n",
              "  </style>\n",
              "</head>\n",
              "<body>\n",
              "<h2></h2>\n",
              "\n",
              "<div class=\"highlight\"><pre><span></span><span class=\"k\">def</span> <span class=\"nf\">genetic_algorithm</span><span class=\"p\">(</span><span class=\"n\">population</span><span class=\"p\">,</span> <span class=\"n\">fitness_fn</span><span class=\"p\">,</span> <span class=\"n\">gene_pool</span><span class=\"o\">=</span><span class=\"p\">[</span><span class=\"mi\">0</span><span class=\"p\">,</span> <span class=\"mi\">1</span><span class=\"p\">],</span> <span class=\"n\">f_thres</span><span class=\"o\">=</span><span class=\"kc\">None</span><span class=\"p\">,</span> <span class=\"n\">ngen</span><span class=\"o\">=</span><span class=\"mi\">1000</span><span class=\"p\">,</span> <span class=\"n\">pmut</span><span class=\"o\">=</span><span class=\"mf\">0.1</span><span class=\"p\">):</span>\n",
              "    <span class=\"sd\">&quot;&quot;&quot;[Figure 4.8]&quot;&quot;&quot;</span>\n",
              "    <span class=\"k\">for</span> <span class=\"n\">i</span> <span class=\"ow\">in</span> <span class=\"nb\">range</span><span class=\"p\">(</span><span class=\"n\">ngen</span><span class=\"p\">):</span>\n",
              "        <span class=\"n\">population</span> <span class=\"o\">=</span> <span class=\"p\">[</span><span class=\"n\">mutate</span><span class=\"p\">(</span><span class=\"n\">recombine</span><span class=\"p\">(</span><span class=\"o\">*</span><span class=\"n\">select</span><span class=\"p\">(</span><span class=\"mi\">2</span><span class=\"p\">,</span> <span class=\"n\">population</span><span class=\"p\">,</span> <span class=\"n\">fitness_fn</span><span class=\"p\">)),</span> <span class=\"n\">gene_pool</span><span class=\"p\">,</span> <span class=\"n\">pmut</span><span class=\"p\">)</span>\n",
              "                      <span class=\"k\">for</span> <span class=\"n\">i</span> <span class=\"ow\">in</span> <span class=\"nb\">range</span><span class=\"p\">(</span><span class=\"nb\">len</span><span class=\"p\">(</span><span class=\"n\">population</span><span class=\"p\">))]</span>\n",
              "\n",
              "        <span class=\"n\">fittest_individual</span> <span class=\"o\">=</span> <span class=\"n\">fitness_threshold</span><span class=\"p\">(</span><span class=\"n\">fitness_fn</span><span class=\"p\">,</span> <span class=\"n\">f_thres</span><span class=\"p\">,</span> <span class=\"n\">population</span><span class=\"p\">)</span>\n",
              "        <span class=\"k\">if</span> <span class=\"n\">fittest_individual</span><span class=\"p\">:</span>\n",
              "            <span class=\"k\">return</span> <span class=\"n\">fittest_individual</span>\n",
              "\n",
              "    <span class=\"k\">return</span> <span class=\"nb\">max</span><span class=\"p\">(</span><span class=\"n\">population</span><span class=\"p\">,</span> <span class=\"n\">key</span><span class=\"o\">=</span><span class=\"n\">fitness_fn</span><span class=\"p\">)</span>\n",
              "</pre></div>\n",
              "</body>\n",
              "</html>\n"
            ],
            "text/plain": [
              "<IPython.core.display.HTML object>"
            ]
          },
          "metadata": {}
        }
      ]
    },
    {
      "cell_type": "markdown",
      "metadata": {
        "id": "uf2AU2eP3lZ9"
      },
      "source": [
        "We have defined all the required functions and variables. Let's now create a new population and test the function we wrote above."
      ]
    },
    {
      "cell_type": "code",
      "metadata": {
        "colab": {
          "base_uri": "https://localhost:8080/"
        },
        "id": "YlCQsqoi3lZ-",
        "outputId": "c6fb1587-424a-4f3c-a232-2024a71acb59"
      },
      "source": [
        "population = init_population(max_population, gene_pool, len(target))\n",
        "solution, generations = genetic_algorithm_stepwise(population, fitness_fn, gene_pool, f_thres, ngen, mutation_rate)"
      ],
      "execution_count": null,
      "outputs": [
        {
          "output_type": "stream",
          "name": "stdout",
          "text": [
            ""
          ]
        }
      ]
    },
    {
      "cell_type": "code",
      "metadata": {
        "colab": {
          "base_uri": "https://localhost:8080/"
        },
        "id": "SQ1mauxi3lZ-",
        "outputId": "6b03df71-6cde-45c4-9d04-0fee4f05f743"
      },
      "source": [
        "print(solution)"
      ],
      "execution_count": null,
      "outputs": [
        {
          "output_type": "stream",
          "name": "stdout",
          "text": [
            "['G', 'e', 'n', 'e', 't', 'i', 'o', ' ', 'A', 'o', 'O', 'A', 'r', 'i', 't', 'B', 'j']\n"
          ]
        }
      ]
    }
  ]
}