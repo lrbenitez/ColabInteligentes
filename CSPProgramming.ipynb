{
  "nbformat": 4,
  "nbformat_minor": 0,
  "metadata": {
    "colab": {
      "provenance": [],
      "authorship_tag": "ABX9TyMYMIlHXy0SKnJLkiZccBka",
      "include_colab_link": true
    },
    "kernelspec": {
      "name": "python3",
      "display_name": "Python 3"
    },
    "language_info": {
      "name": "python"
    }
  },
  "cells": [
    {
      "cell_type": "markdown",
      "metadata": {
        "id": "view-in-github",
        "colab_type": "text"
      },
      "source": [
        "<a href=\"https://colab.research.google.com/github/lrbenitez/ColabInteligentes/blob/main/CSPProgramming.ipynb\" target=\"_parent\"><img src=\"https://colab.research.google.com/assets/colab-badge.svg\" alt=\"Open In Colab\"/></a>"
      ]
    },
    {
      "cell_type": "code",
      "execution_count": null,
      "metadata": {
        "colab": {
          "base_uri": "https://localhost:8080/"
        },
        "id": "aPakknOiCfLg",
        "outputId": "a4a48cc0-2e08-40d3-d38d-a13fd8417536"
      },
      "outputs": [
        {
          "output_type": "stream",
          "name": "stdout",
          "text": [
            "Looking in indexes: https://pypi.org/simple, https://us-python.pkg.dev/colab-wheels/public/simple/\n",
            "Requirement already satisfied: ortools in /root/.local/lib/python3.10/site-packages (9.6.2534)\n",
            "Requirement already satisfied: absl-py>=0.13 in /usr/local/lib/python3.10/dist-packages (from ortools) (1.4.0)\n",
            "Requirement already satisfied: numpy>=1.13.3 in /usr/local/lib/python3.10/dist-packages (from ortools) (1.22.4)\n",
            "Requirement already satisfied: protobuf>=4.21.12 in /root/.local/lib/python3.10/site-packages (from ortools) (4.23.0)\n",
            "Requirement already satisfied: scipy>=1.10.0 in /usr/local/lib/python3.10/dist-packages (from ortools) (1.10.1)\n"
          ]
        }
      ],
      "source": [
        "!python -m pip install --upgrade --user ortools\n",
        "#https://mlabonne.github.io/blog/posts/2022-05-02-constraint_programming.html\n"
      ]
    },
    {
      "cell_type": "code",
      "source": [
        "import ortools"
      ],
      "metadata": {
        "id": "u19mcehoEv99"
      },
      "execution_count": null,
      "outputs": []
    },
    {
      "cell_type": "code",
      "source": [
        "from ortools.sat.python import cp_model\n",
        "\n",
        "# Instantiate model and solver\n",
        "model = cp_model.CpModel()\n",
        "solver = cp_model.CpSolver()"
      ],
      "metadata": {
        "id": "O5SVB6W8Cmwm"
      },
      "execution_count": null,
      "outputs": []
    },
    {
      "cell_type": "code",
      "source": [
        "WA = model.NewIntVar(1, 3, 'Western Australia')\n",
        "NT = model.NewIntVar(1, 3, 'Northern Territory')\n",
        "SA = model.NewIntVar(1, 3, 'South Australia')\n",
        "Q = model.NewIntVar(1, 3, 'Queensland')\n",
        "NSW = model.NewIntVar(1, 3, 'New South Wales')\n",
        "V = model.NewIntVar(1, 3, 'Victoria')\n",
        "T = model.NewIntVar(1, 3, 'Tasmania')"
      ],
      "metadata": {
        "id": "1T6yP6roEu6e"
      },
      "execution_count": null,
      "outputs": []
    },
    {
      "cell_type": "code",
      "source": [
        "model.AddAllDifferent(WA,NT,SA)\n",
        "model.AddAllDifferent(NT,Q,SA)\n",
        "model.AddAllDifferent(NSW,Q,SA)\n",
        "model.AddAllDifferent(NSW,V,SA)"
      ],
      "metadata": {
        "colab": {
          "base_uri": "https://localhost:8080/"
        },
        "id": "GBDI-URaEshk",
        "outputId": "3aa08470-a93f-4d5f-abbe-5c784d7eb458"
      },
      "execution_count": null,
      "outputs": [
        {
          "output_type": "execute_result",
          "data": {
            "text/plain": [
              "<ortools.sat.python.cp_model.Constraint at 0x7efe98b75270>"
            ]
          },
          "metadata": {},
          "execution_count": 22
        }
      ]
    },
    {
      "cell_type": "code",
      "source": [
        "class VarArraySolutionCollector(cp_model.CpSolverSolutionCallback):\n",
        "\n",
        "    def __init__(self, variables):\n",
        "        cp_model.CpSolverSolutionCallback.__init__(self)\n",
        "        self.__variables = variables\n",
        "        self.solution_list = []\n",
        "\n",
        "    def on_solution_callback(self):\n",
        "        self.solution_list.append([self.Value(v) for v in self.__variables])\n",
        "\n",
        "# Create a solver and solve.\n",
        "print(WA,\",\", NT, SA,Q, NSW, V,T)\n",
        "solver = cp_model.CpSolver()\n",
        "solution_collector = VarArraySolutionCollector([WA, NT, SA,Q, NSW, V,T])\n",
        "solver.SearchForAllSolutions(model, solution_collector)\n",
        "\n",
        "solution_collector.solution_list"
      ],
      "metadata": {
        "colab": {
          "base_uri": "https://localhost:8080/"
        },
        "id": "ZRW6c1iwEN5v",
        "outputId": "877dde2f-1617-4284-8922-b93ed91c19cb"
      },
      "execution_count": null,
      "outputs": [
        {
          "output_type": "stream",
          "name": "stdout",
          "text": [
            "Western Australia , Northern Territory South Australia Queensland New South Wales Victoria Tasmania\n"
          ]
        },
        {
          "output_type": "execute_result",
          "data": {
            "text/plain": [
              "[[1, 3, 2, 1, 3, 1, 1],\n",
              " [1, 2, 3, 1, 2, 1, 1],\n",
              " [1, 3, 2, 1, 3, 1, 2],\n",
              " [1, 2, 3, 1, 2, 1, 2],\n",
              " [1, 3, 2, 1, 3, 1, 3],\n",
              " [1, 2, 3, 1, 2, 1, 3],\n",
              " [2, 1, 3, 2, 1, 2, 3],\n",
              " [3, 1, 2, 3, 1, 3, 3],\n",
              " [2, 1, 3, 2, 1, 2, 2],\n",
              " [3, 1, 2, 3, 1, 3, 2],\n",
              " [2, 1, 3, 2, 1, 2, 1],\n",
              " [3, 1, 2, 3, 1, 3, 1],\n",
              " [2, 3, 1, 2, 3, 2, 1],\n",
              " [2, 3, 1, 2, 3, 2, 2],\n",
              " [2, 3, 1, 2, 3, 2, 3],\n",
              " [3, 2, 1, 3, 2, 3, 3],\n",
              " [3, 2, 1, 3, 2, 3, 2],\n",
              " [3, 2, 1, 3, 2, 3, 1]]"
            ]
          },
          "metadata": {},
          "execution_count": 23
        }
      ]
    },
    {
      "cell_type": "code",
      "source": [],
      "metadata": {
        "id": "RmhoHVgTJ36F"
      },
      "execution_count": null,
      "outputs": []
    },
    {
      "cell_type": "markdown",
      "source": [
        "**ACTIVIDADES: **\n",
        "\n",
        "\n",
        "\n",
        "1.  CREA UN CUADERNO A PARTIR DE ESTE Y ELIMINA TASMANIA TANTO DE LAS VARIABLES, COMO DE LAS RESTRICCIONES, ... EJECUTA DE NUEVO LA BÚSQUEDA DE SOLUCIONES. \n",
        "2.   Elemento de lista\n",
        "\n"
      ],
      "metadata": {
        "id": "QwdO0gA-WAAo"
      }
    }
  ]
}